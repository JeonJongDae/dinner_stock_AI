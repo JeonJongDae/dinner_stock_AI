{
  "nbformat": 4,
  "nbformat_minor": 0,
  "metadata": {
    "colab": {
      "provenance": [],
      "machine_shape": "hm",
      "gpuType": "A100",
      "include_colab_link": true
    },
    "kernelspec": {
      "name": "python3",
      "display_name": "Python 3"
    },
    "language_info": {
      "name": "python"
    },
    "accelerator": "GPU",
    "gpuClass": "standard"
  },
  "cells": [
    {
      "cell_type": "markdown",
      "metadata": {
        "id": "view-in-github",
        "colab_type": "text"
      },
      "source": [
        "<a href=\"https://colab.research.google.com/github/JeonJongDae/dinner_stock_AI/blob/main/rf05_pytorch06_class_api.ipynb\" target=\"_parent\"><img src=\"https://colab.research.google.com/assets/colab-badge.svg\" alt=\"Open In Colab\"/></a>"
      ]
    },
    {
      "cell_type": "code",
      "execution_count": null,
      "metadata": {
        "id": "X-yc7WrJhLJT"
      },
      "outputs": [],
      "source": [
        "import torch\n",
        "from torch import nn\n",
        "import matplotlib.pyplot as plt\n",
        "import torchvision"
      ]
    },
    {
      "cell_type": "code",
      "source": [
        "data_train = torchvision.datasets.FashionMNIST(root='.', train=True, download=True)\n",
        "x_train = data_train.data / 255\n",
        "y_train = data_train.targets\n",
        "\n",
        "data_valid = torchvision.datasets.FashionMNIST(root='.', train=False, download=True)\n",
        "x_valid = data_valid.data / 255\n",
        "y_valid = data_valid.targets"
      ],
      "metadata": {
        "id": "iuTELZJBitxg",
        "colab": {
          "base_uri": "https://localhost:8080/"
        },
        "outputId": "f108863c-cb58-44be-adc9-6b776f5572fc"
      },
      "execution_count": null,
      "outputs": [
        {
          "output_type": "stream",
          "name": "stdout",
          "text": [
            "Downloading http://fashion-mnist.s3-website.eu-central-1.amazonaws.com/train-images-idx3-ubyte.gz\n",
            "Downloading http://fashion-mnist.s3-website.eu-central-1.amazonaws.com/train-images-idx3-ubyte.gz to ./FashionMNIST/raw/train-images-idx3-ubyte.gz\n"
          ]
        },
        {
          "output_type": "stream",
          "name": "stderr",
          "text": [
            "100%|██████████| 26421880/26421880 [00:02<00:00, 11834349.91it/s]\n"
          ]
        },
        {
          "output_type": "stream",
          "name": "stdout",
          "text": [
            "Extracting ./FashionMNIST/raw/train-images-idx3-ubyte.gz to ./FashionMNIST/raw\n",
            "\n",
            "Downloading http://fashion-mnist.s3-website.eu-central-1.amazonaws.com/train-labels-idx1-ubyte.gz\n",
            "Downloading http://fashion-mnist.s3-website.eu-central-1.amazonaws.com/train-labels-idx1-ubyte.gz to ./FashionMNIST/raw/train-labels-idx1-ubyte.gz\n"
          ]
        },
        {
          "output_type": "stream",
          "name": "stderr",
          "text": [
            "100%|██████████| 29515/29515 [00:00<00:00, 200047.64it/s]\n"
          ]
        },
        {
          "output_type": "stream",
          "name": "stdout",
          "text": [
            "Extracting ./FashionMNIST/raw/train-labels-idx1-ubyte.gz to ./FashionMNIST/raw\n",
            "\n",
            "Downloading http://fashion-mnist.s3-website.eu-central-1.amazonaws.com/t10k-images-idx3-ubyte.gz\n",
            "Downloading http://fashion-mnist.s3-website.eu-central-1.amazonaws.com/t10k-images-idx3-ubyte.gz to ./FashionMNIST/raw/t10k-images-idx3-ubyte.gz\n"
          ]
        },
        {
          "output_type": "stream",
          "name": "stderr",
          "text": [
            "100%|██████████| 4422102/4422102 [00:01<00:00, 3732784.01it/s]\n"
          ]
        },
        {
          "output_type": "stream",
          "name": "stdout",
          "text": [
            "Extracting ./FashionMNIST/raw/t10k-images-idx3-ubyte.gz to ./FashionMNIST/raw\n",
            "\n",
            "Downloading http://fashion-mnist.s3-website.eu-central-1.amazonaws.com/t10k-labels-idx1-ubyte.gz\n",
            "Downloading http://fashion-mnist.s3-website.eu-central-1.amazonaws.com/t10k-labels-idx1-ubyte.gz to ./FashionMNIST/raw/t10k-labels-idx1-ubyte.gz\n"
          ]
        },
        {
          "output_type": "stream",
          "name": "stderr",
          "text": [
            "100%|██████████| 5148/5148 [00:00<00:00, 8282423.09it/s]"
          ]
        },
        {
          "output_type": "stream",
          "name": "stdout",
          "text": [
            "Extracting ./FashionMNIST/raw/t10k-labels-idx1-ubyte.gz to ./FashionMNIST/raw\n",
            "\n"
          ]
        },
        {
          "output_type": "stream",
          "name": "stderr",
          "text": [
            "\n"
          ]
        }
      ]
    },
    {
      "cell_type": "code",
      "source": [
        "dataset_train = list(zip(x_train.unsqueeze(1), y_train))\n",
        "dataset_valid = list(zip(x_valid.unsqueeze(1), y_valid))\n",
        "\n",
        "dataloader_train = torch.utils.data.DataLoader(dataset_train, batch_size=32, shuffle=True, drop_last=True)\n",
        "dataloader_valid = torch.utils.data.DataLoader(dataset_valid, batch_size=32)"
      ],
      "metadata": {
        "id": "hozUSBW1ByuA"
      },
      "execution_count": null,
      "outputs": []
    },
    {
      "cell_type": "code",
      "source": [
        "class ConvBlock(nn.Module):\n",
        "    def __init__(self):\n",
        "        super().__init__()\n",
        "    \n",
        "    def forward(self, input):\n",
        "        return input * 2\n",
        "\n",
        "conv = ConvBlock()\n",
        "conv(torch.tensor([1, 2, 3]))\n",
        "#=====================================\n",
        "dummy = torch.randn(32, 10, 28, 28)\n",
        "conv = nn.Conv2d(10, 20, kernel_size=3, padding=1, stride=1)\n",
        "x = conv(dummy)\n",
        "batch = nn.BatchNorm2d(20)\n",
        "x = batch(x)\n",
        "relu = nn.ReLU()\n",
        "x = relu(x)\n",
        "\n",
        "class ConvBlock(nn.Module):\n",
        "    def __init__(self, in_channels, out_channels, stride=1):\n",
        "        super().__init__()\n",
        "        self.in_channels = in_channels\n",
        "        self.out_channels = out_channels\n",
        "        self.stride = stride\n",
        "        self.conv = nn.Conv2d(self.in_channels, self.out_channels, kernel_size=3, padding=1, stride=self.stride, bias=False)\n",
        "        self.batch = nn.BatchNorm2d(self.out_channels)\n",
        "    \n",
        "    def forward(self, input):\n",
        "        x = self.conv(input)\n",
        "        x = self.batch(x)\n",
        "        x = torch.relu(x)\n",
        "        return x\n",
        "\n",
        "conv = ConvBlock(10, 20)\n",
        "conv.in_channels\n",
        "z1 = conv(dummy)\n",
        "z2 = conv(dummy)\n",
        "torch.all(z1 == z2)"
      ],
      "metadata": {
        "colab": {
          "base_uri": "https://localhost:8080/"
        },
        "id": "_cQbwMNAYl53",
        "outputId": "24624a01-f7e8-49f2-fe30-a047b471512a"
      },
      "execution_count": null,
      "outputs": [
        {
          "output_type": "execute_result",
          "data": {
            "text/plain": [
              "tensor(True)"
            ]
          },
          "metadata": {},
          "execution_count": 4
        }
      ]
    },
    {
      "cell_type": "code",
      "source": [
        "in_ch = 10\n",
        "out_ch = 10\n",
        "stride = 1\n",
        "\n",
        "conv1 = nn.Conv2d(in_ch, out_ch, kernel_size=3, padding=1, stride=stride)\n",
        "batch1 = nn.BatchNorm2d(out_ch)\n",
        "\n",
        "conv2 = nn.Conv2d(out_ch, out_ch, kernel_size=3, padding=1)\n",
        "batch2 = nn.BatchNorm2d(out_ch)\n",
        "\n",
        "input = torch.randn(32, in_ch, 28, 28)\n",
        "x = conv1(input) #\n",
        "x = batch1(x)\n",
        "x = torch.relu(x)\n",
        "x = conv2(x)\n",
        "x = batch2(x)\n",
        "if in_ch == out_ch and stride == 1:\n",
        "    x = x + input\n",
        "x = torch.relu(x)\n",
        "x.shape"
      ],
      "metadata": {
        "colab": {
          "base_uri": "https://localhost:8080/"
        },
        "id": "aWYPCHWcsxBe",
        "outputId": "45fc46a9-56df-41a1-e204-9c9adcc3e652"
      },
      "execution_count": null,
      "outputs": [
        {
          "output_type": "stream",
          "name": "stdout",
          "text": [
            "debug\n"
          ]
        },
        {
          "output_type": "execute_result",
          "data": {
            "text/plain": [
              "torch.Size([32, 10, 28, 28])"
            ]
          },
          "metadata": {},
          "execution_count": 26
        }
      ]
    },
    {
      "cell_type": "code",
      "source": [
        "class ResBlock(nn.Module):\n",
        "    def __init__(self, in_ch, out_ch, stride=1):\n",
        "        super().__init__()\n",
        "        self.conv1 = nn.Conv2d(in_ch, out_ch, kernel_size=3, padding=1, stride=stride)\n",
        "        self.batch1 = nn.BatchNorm2d(out_ch)\n",
        "\n",
        "        self.conv2 = nn.Conv2d(out_ch, out_ch, kernel_size=3, padding=1)\n",
        "        self.batch2 = nn.BatchNorm2d(out_ch)\n",
        "    \n",
        "    def forward(self, input):\n",
        "        x = self.conv1(input) #\n",
        "        x = self.batch1(x)\n",
        "        x = torch.relu(x)\n",
        "        x = self.conv2(x)\n",
        "        x = self.batch2(x)\n",
        "        if in_ch == out_ch and stride == 1:\n",
        "            x = x + input\n",
        "        x = torch.relu(x)\n",
        "        return x\n",
        "\n",
        "res = ResBlock(10, 20, 2)\n",
        "res(input).shape"
      ],
      "metadata": {
        "colab": {
          "base_uri": "https://localhost:8080/",
          "height": 346
        },
        "id": "JBVmgU8sscr4",
        "outputId": "e8ff09e2-2439-44af-8825-ebf04b67785f"
      },
      "execution_count": null,
      "outputs": [
        {
          "output_type": "error",
          "ename": "RuntimeError",
          "evalue": "ignored",
          "traceback": [
            "\u001b[0;31m---------------------------------------------------------------------------\u001b[0m",
            "\u001b[0;31mRuntimeError\u001b[0m                              Traceback (most recent call last)",
            "\u001b[0;32m<ipython-input-31-5eaacbbf5306>\u001b[0m in \u001b[0;36m<cell line: 22>\u001b[0;34m()\u001b[0m\n\u001b[1;32m     20\u001b[0m \u001b[0;34m\u001b[0m\u001b[0m\n\u001b[1;32m     21\u001b[0m \u001b[0mres\u001b[0m \u001b[0;34m=\u001b[0m \u001b[0mResBlock\u001b[0m\u001b[0;34m(\u001b[0m\u001b[0;36m10\u001b[0m\u001b[0;34m,\u001b[0m \u001b[0;36m20\u001b[0m\u001b[0;34m,\u001b[0m \u001b[0;36m2\u001b[0m\u001b[0;34m)\u001b[0m\u001b[0;34m\u001b[0m\u001b[0;34m\u001b[0m\u001b[0m\n\u001b[0;32m---> 22\u001b[0;31m \u001b[0mres\u001b[0m\u001b[0;34m(\u001b[0m\u001b[0minput\u001b[0m\u001b[0;34m)\u001b[0m\u001b[0;34m.\u001b[0m\u001b[0mshape\u001b[0m\u001b[0;34m\u001b[0m\u001b[0;34m\u001b[0m\u001b[0m\n\u001b[0m",
            "\u001b[0;32m/usr/local/lib/python3.10/dist-packages/torch/nn/modules/module.py\u001b[0m in \u001b[0;36m_call_impl\u001b[0;34m(self, *args, **kwargs)\u001b[0m\n\u001b[1;32m   1499\u001b[0m                 \u001b[0;32mor\u001b[0m \u001b[0m_global_backward_pre_hooks\u001b[0m \u001b[0;32mor\u001b[0m \u001b[0m_global_backward_hooks\u001b[0m\u001b[0;34m\u001b[0m\u001b[0;34m\u001b[0m\u001b[0m\n\u001b[1;32m   1500\u001b[0m                 or _global_forward_hooks or _global_forward_pre_hooks):\n\u001b[0;32m-> 1501\u001b[0;31m             \u001b[0;32mreturn\u001b[0m \u001b[0mforward_call\u001b[0m\u001b[0;34m(\u001b[0m\u001b[0;34m*\u001b[0m\u001b[0margs\u001b[0m\u001b[0;34m,\u001b[0m \u001b[0;34m**\u001b[0m\u001b[0mkwargs\u001b[0m\u001b[0;34m)\u001b[0m\u001b[0;34m\u001b[0m\u001b[0;34m\u001b[0m\u001b[0m\n\u001b[0m\u001b[1;32m   1502\u001b[0m         \u001b[0;31m# Do not call functions when jit is used\u001b[0m\u001b[0;34m\u001b[0m\u001b[0;34m\u001b[0m\u001b[0m\n\u001b[1;32m   1503\u001b[0m         \u001b[0mfull_backward_hooks\u001b[0m\u001b[0;34m,\u001b[0m \u001b[0mnon_full_backward_hooks\u001b[0m \u001b[0;34m=\u001b[0m \u001b[0;34m[\u001b[0m\u001b[0;34m]\u001b[0m\u001b[0;34m,\u001b[0m \u001b[0;34m[\u001b[0m\u001b[0;34m]\u001b[0m\u001b[0;34m\u001b[0m\u001b[0;34m\u001b[0m\u001b[0m\n",
            "\u001b[0;32m<ipython-input-31-5eaacbbf5306>\u001b[0m in \u001b[0;36mforward\u001b[0;34m(self, input)\u001b[0m\n\u001b[1;32m     15\u001b[0m         \u001b[0mx\u001b[0m \u001b[0;34m=\u001b[0m \u001b[0mself\u001b[0m\u001b[0;34m.\u001b[0m\u001b[0mbatch2\u001b[0m\u001b[0;34m(\u001b[0m\u001b[0mx\u001b[0m\u001b[0;34m)\u001b[0m\u001b[0;34m\u001b[0m\u001b[0;34m\u001b[0m\u001b[0m\n\u001b[1;32m     16\u001b[0m         \u001b[0;32mif\u001b[0m \u001b[0min_ch\u001b[0m \u001b[0;34m==\u001b[0m \u001b[0mout_ch\u001b[0m \u001b[0;32mand\u001b[0m \u001b[0mstride\u001b[0m \u001b[0;34m==\u001b[0m \u001b[0;36m1\u001b[0m\u001b[0;34m:\u001b[0m\u001b[0;34m\u001b[0m\u001b[0;34m\u001b[0m\u001b[0m\n\u001b[0;32m---> 17\u001b[0;31m             \u001b[0mx\u001b[0m \u001b[0;34m=\u001b[0m \u001b[0mx\u001b[0m \u001b[0;34m+\u001b[0m \u001b[0minput\u001b[0m\u001b[0;34m\u001b[0m\u001b[0;34m\u001b[0m\u001b[0m\n\u001b[0m\u001b[1;32m     18\u001b[0m         \u001b[0mx\u001b[0m \u001b[0;34m=\u001b[0m \u001b[0mtorch\u001b[0m\u001b[0;34m.\u001b[0m\u001b[0mrelu\u001b[0m\u001b[0;34m(\u001b[0m\u001b[0mx\u001b[0m\u001b[0;34m)\u001b[0m\u001b[0;34m\u001b[0m\u001b[0;34m\u001b[0m\u001b[0m\n\u001b[1;32m     19\u001b[0m         \u001b[0;32mreturn\u001b[0m \u001b[0mx\u001b[0m\u001b[0;34m\u001b[0m\u001b[0;34m\u001b[0m\u001b[0m\n",
            "\u001b[0;31mRuntimeError\u001b[0m: The size of tensor a (14) must match the size of tensor b (28) at non-singleton dimension 3"
          ]
        }
      ]
    },
    {
      "cell_type": "code",
      "source": [
        "device = 'cuda' if torch.cuda.is_available() else 'cpu'"
      ],
      "metadata": {
        "id": "MoNd8TqwqQxh"
      },
      "execution_count": null,
      "outputs": []
    },
    {
      "cell_type": "code",
      "source": [
        "for x, y in dataloader_train:\n",
        "    break\n",
        "x.shape, y.shape #(torch.Size([32, 1, 28, 28]), torch.Size([32]))\n",
        "\n",
        "model = nn.Sequential(\n",
        "    ConvBlock(1, 32), \n",
        "    ConvBlock(32, 64, stride=2),\n",
        "    ConvBlock(64, 64),\n",
        "    ConvBlock(64, 128, stride=2),\n",
        "    ConvBlock(128, 128),\n",
        "    # nn.Flatten(),\n",
        "    # nn.Linear(6272, 128),\n",
        "    # nn.ReLU(),\n",
        "    # nn.Linear(128, 10),\n",
        "    nn.AvgPool2d(7, 7),\n",
        "    nn.Flatten(),\n",
        "    nn.Linear(128, 10)\n",
        ")\n",
        "\n",
        "model(x).shape\n",
        "model.to(device)"
      ],
      "metadata": {
        "colab": {
          "base_uri": "https://localhost:8080/"
        },
        "id": "HLqYCMZtC1OR",
        "outputId": "711d9216-a0fe-4d0b-dc94-53aa34dec2bd"
      },
      "execution_count": null,
      "outputs": [
        {
          "output_type": "execute_result",
          "data": {
            "text/plain": [
              "Sequential(\n",
              "  (0): ConvBlock(\n",
              "    (conv): Conv2d(1, 32, kernel_size=(3, 3), stride=(1, 1), padding=(1, 1), bias=False)\n",
              "    (batch): BatchNorm2d(32, eps=1e-05, momentum=0.1, affine=True, track_running_stats=True)\n",
              "  )\n",
              "  (1): ConvBlock(\n",
              "    (conv): Conv2d(32, 64, kernel_size=(3, 3), stride=(2, 2), padding=(1, 1), bias=False)\n",
              "    (batch): BatchNorm2d(64, eps=1e-05, momentum=0.1, affine=True, track_running_stats=True)\n",
              "  )\n",
              "  (2): ConvBlock(\n",
              "    (conv): Conv2d(64, 64, kernel_size=(3, 3), stride=(1, 1), padding=(1, 1), bias=False)\n",
              "    (batch): BatchNorm2d(64, eps=1e-05, momentum=0.1, affine=True, track_running_stats=True)\n",
              "  )\n",
              "  (3): ConvBlock(\n",
              "    (conv): Conv2d(64, 128, kernel_size=(3, 3), stride=(2, 2), padding=(1, 1), bias=False)\n",
              "    (batch): BatchNorm2d(128, eps=1e-05, momentum=0.1, affine=True, track_running_stats=True)\n",
              "  )\n",
              "  (4): ConvBlock(\n",
              "    (conv): Conv2d(128, 128, kernel_size=(3, 3), stride=(1, 1), padding=(1, 1), bias=False)\n",
              "    (batch): BatchNorm2d(128, eps=1e-05, momentum=0.1, affine=True, track_running_stats=True)\n",
              "  )\n",
              "  (5): AvgPool2d(kernel_size=7, stride=7, padding=0)\n",
              "  (6): Flatten(start_dim=1, end_dim=-1)\n",
              "  (7): Linear(in_features=128, out_features=10, bias=True)\n",
              ")"
            ]
          },
          "metadata": {},
          "execution_count": 6
        }
      ]
    },
    {
      "cell_type": "code",
      "source": [
        "loss_fn = torch.nn.CrossEntropyLoss(label_smoothing=0.3)"
      ],
      "metadata": {
        "id": "9AEAHcX7I9yi"
      },
      "execution_count": null,
      "outputs": []
    },
    {
      "cell_type": "code",
      "source": [
        "opt = torch.optim.Adam(model.parameters())"
      ],
      "metadata": {
        "id": "kUBhOa_UJrXF"
      },
      "execution_count": null,
      "outputs": []
    },
    {
      "cell_type": "code",
      "source": [
        "for epoch in range(10):\n",
        "    loss_list = []\n",
        "    acc_list = []   \n",
        "    model.train()\n",
        "    for step, (x, y) in enumerate(dataloader_train):\n",
        "        #1. feed forward (예측 결과를 계산한다.)\n",
        "        pred = model(x.to(device))\n",
        "        #2. loss\n",
        "        loss = loss_fn(pred, y.to(device))\n",
        "        #3. grad\n",
        "        opt.zero_grad()\n",
        "        loss.backward()\n",
        "        #4. model update (opt)\n",
        "        opt.step()\n",
        "\n",
        "        #번외.. 5. accuracy\n",
        "        acc = torch.sum(pred.to('cpu').detach().argmax(dim=1) == y) / len(y)\n",
        "        loss_list.append(loss.item())\n",
        "        acc_list.append(acc.item())\n",
        "        total_loss = round(sum(loss_list) / len(loss_list), 4)\n",
        "        total_acc = round(sum(acc_list) / len(acc_list), 4)\n",
        "\n",
        "        print(f'\\repoch={epoch} step={step} loss={total_loss} acc={total_acc}', end='')\n",
        "    print()\n",
        "    loss_list = []\n",
        "    acc_list = []  \n",
        "    model.eval()\n",
        "    for step, (x, y) in enumerate(dataloader_valid):\n",
        "        #1. feed forward (예측 결과를 계산한다.)\n",
        "        with torch.no_grad():\n",
        "            pred = model(x.to(device))\n",
        "        #2. loss\n",
        "        loss = loss_fn(pred, y.to(device))\n",
        "\n",
        "        #번외.. 5. accuracy\n",
        "        acc = torch.sum(pred.to('cpu').detach().argmax(dim=1) == y) / len(y)\n",
        "        loss_list.append(loss.item())\n",
        "        acc_list.append(acc.item())\n",
        "        total_loss = round(sum(loss_list) / len(loss_list), 4)\n",
        "        total_acc = round(sum(acc_list) / len(acc_list), 4)\n",
        "\n",
        "        print(f'\\r                                                step={step} loss={total_loss} acc={total_acc}', end='')\n",
        "    print()"
      ],
      "metadata": {
        "colab": {
          "base_uri": "https://localhost:8080/"
        },
        "id": "Kza_yXF0J6ha",
        "outputId": "f0001b0e-5a59-460d-f386-6d4a8df76f4f"
      },
      "execution_count": null,
      "outputs": [
        {
          "output_type": "stream",
          "name": "stdout",
          "text": [
            "epoch=0 step=1874 loss=1.4178 acc=0.8503\n",
            "                                                step=312 loss=1.3703 acc=0.883\n",
            "epoch=1 step=1874 loss=1.3416 acc=0.9048\n",
            "                                                step=312 loss=1.3338 acc=0.9052\n",
            "epoch=2 step=1874 loss=1.3208 acc=0.9194\n",
            "                                                step=312 loss=1.3346 acc=0.9012\n",
            "epoch=3 step=1874 loss=1.3067 acc=0.9283\n",
            "                                                step=312 loss=1.3235 acc=0.9146\n",
            "epoch=4 step=1874 loss=1.2964 acc=0.9354\n",
            "                                                step=312 loss=1.3099 acc=0.9212\n",
            "epoch=5 step=1874 loss=1.2866 acc=0.9429\n",
            "                                                step=312 loss=1.3133 acc=0.9185\n",
            "epoch=6 step=1874 loss=1.2784 acc=0.9493\n",
            "                                                step=312 loss=1.3015 acc=0.9242\n",
            "epoch=7 step=1874 loss=1.2707 acc=0.9558\n",
            "                                                step=312 loss=1.2992 acc=0.9269\n",
            "epoch=8 step=1874 loss=1.2636 acc=0.9607\n",
            "                                                step=312 loss=1.3006 acc=0.9284\n",
            "epoch=9 step=1874 loss=1.2575 acc=0.9657\n",
            "                                                step=312 loss=1.2994 acc=0.9294\n"
          ]
        }
      ]
    },
    {
      "cell_type": "code",
      "source": [
        "a = torch.randn(128, 1, 1)\n",
        "a.reshape(-1).shape"
      ],
      "metadata": {
        "colab": {
          "base_uri": "https://localhost:8080/"
        },
        "id": "NZzw4PRprWlr",
        "outputId": "1a0994d6-9765-4ed8-e48a-f36649bbe3b9"
      },
      "execution_count": null,
      "outputs": [
        {
          "output_type": "execute_result",
          "data": {
            "text/plain": [
              "torch.Size([128])"
            ]
          },
          "metadata": {},
          "execution_count": 18
        }
      ]
    },
    {
      "cell_type": "code",
      "source": [
        "model.eval()\n",
        "with torch.no_grad():\n",
        "    logit = model(x_valid.unsqueeze(1).to(device))\n",
        "prob = torch.softmax(logit, dim=1)\n",
        "y_pred = torch.argmax(prob, dim=1)\n",
        "y_pred[:10]"
      ],
      "metadata": {
        "colab": {
          "base_uri": "https://localhost:8080/"
        },
        "id": "LTmUoQQIM52y",
        "outputId": "48bdb290-406c-4fa7-db10-05a26865eedd"
      },
      "execution_count": null,
      "outputs": [
        {
          "output_type": "execute_result",
          "data": {
            "text/plain": [
              "tensor([9, 2, 1, 1, 6, 1, 4, 6, 5, 7], device='cuda:0')"
            ]
          },
          "metadata": {},
          "execution_count": 20
        }
      ]
    },
    {
      "cell_type": "code",
      "source": [
        "y_valid[:10]"
      ],
      "metadata": {
        "id": "2pvnVOutNuHr"
      },
      "execution_count": null,
      "outputs": []
    },
    {
      "cell_type": "code",
      "source": [
        "sum(y_pred == y_valid) / len(y_valid)"
      ],
      "metadata": {
        "id": "6drlIg13N6pa"
      },
      "execution_count": null,
      "outputs": []
    }
  ]
}