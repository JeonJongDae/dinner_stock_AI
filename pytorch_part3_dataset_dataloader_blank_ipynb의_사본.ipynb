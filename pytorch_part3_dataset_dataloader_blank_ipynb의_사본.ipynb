{
  "nbformat": 4,
  "nbformat_minor": 0,
  "metadata": {
    "colab": {
      "provenance": [],
      "include_colab_link": true
    },
    "kernelspec": {
      "name": "python3",
      "display_name": "Python 3"
    },
    "language_info": {
      "name": "python"
    }
  },
  "cells": [
    {
      "cell_type": "markdown",
      "metadata": {
        "id": "view-in-github",
        "colab_type": "text"
      },
      "source": [
        "<a href=\"https://colab.research.google.com/github/JeonJongDae/dinner_stock_AI/blob/main/pytorch_part3_dataset_dataloader_blank_ipynb%EC%9D%98_%EC%82%AC%EB%B3%B8.ipynb\" target=\"_parent\"><img src=\"https://colab.research.google.com/assets/colab-badge.svg\" alt=\"Open In Colab\"/></a>"
      ]
    },
    {
      "cell_type": "code",
      "metadata": {
        "id": "MUwFA7QU6Jo5"
      },
      "source": [
        "import numpy as np\n",
        "import matplotlib.pyplot as plt\n",
        "import random\n",
        "\n",
        "import torch\n",
        "from torch.utils.data import Dataset, DataLoader\n",
        "from torchvision import datasets\n",
        "from torchvision.transforms import ToTensor"
      ],
      "execution_count": 27,
      "outputs": []
    },
    {
      "cell_type": "markdown",
      "metadata": {
        "id": "x1aWBG3upyBN"
      },
      "source": [
        "# pytorch part 3: 데이터셋Dataset과 데이터로더DataLoader"
      ]
    },
    {
      "cell_type": "markdown",
      "metadata": {
        "id": "gZ-8XuoLiek3"
      },
      "source": [
        "## pytorch에 미리 정의된 데이터셋 불러 오기\n",
        "\n",
        "- FashionMNIST"
      ]
    },
    {
      "cell_type": "code",
      "metadata": {
        "id": "AXq2JacZ6j1Q"
      },
      "source": [
        "# pytorch에서 미리 정의된 Dataset 로드, FashionMNIST\n",
        "# ToTensor() \n",
        "training_data = datasets.FashionMNIST(\n",
        "    root=\"data\",\n",
        "    train=True,\n",
        "    download=True,\n",
        "    transform=ToTensor()\n",
        ")\n",
        "\n",
        "test_data = datasets.FashionMNIST(\n",
        "    root=\"data\",\n",
        "    train=False,\n",
        "    download=True,\n",
        "    transform=ToTensor()\n",
        ")"
      ],
      "execution_count": 28,
      "outputs": []
    },
    {
      "cell_type": "code",
      "metadata": {
        "id": "ZL2cFwjK7aex"
      },
      "source": [
        "# label 정의\n",
        "\n",
        "labels_map = {\n",
        "    0: \"T-Shirt\",\n",
        "    1: \"Trouser\",\n",
        "    2: \"Pullover\",\n",
        "    3: \"Dress\",\n",
        "    4: \"Coat\",\n",
        "    5: \"Sandal\",\n",
        "    6: \"Shirt\",\n",
        "    7: \"Sneaker\",\n",
        "    8: \"Bag\",\n",
        "    9: \"Ankle Boot\",\n",
        "}"
      ],
      "execution_count": 29,
      "outputs": []
    },
    {
      "cell_type": "code",
      "metadata": {
        "id": "E70M15_861cr",
        "colab": {
          "base_uri": "https://localhost:8080/",
          "height": 506
        },
        "outputId": "5ba6c70e-7b33-4f14-b5a6-a347afb7c168"
      },
      "source": [
        "# data개수 확인\n",
        "print(\"# of Train samples:\", len(training_data))\n",
        "print(\"# of Test samples:\", len(test_data))\n",
        "\n",
        "# data 확인\n",
        "idx = np.random.choice(len(training_data), 1)\n",
        "X, y = training_data[idx[0]]\n",
        "print(\"Sample shape:\", X.shape, \"label:\", y)\n",
        "\n",
        "# 이미지 확인\n",
        "fig = plt.figure()\n",
        "ax = plt.axes()\n",
        "\n",
        "ax.imshow(X.squeeze(), cmap='binary')\n",
        "ax.set_title(labels_map[y])\n",
        "plt.show()"
      ],
      "execution_count": 30,
      "outputs": [
        {
          "output_type": "stream",
          "name": "stdout",
          "text": [
            "# of Train samples: 60000\n",
            "# of Test samples: 10000\n",
            "Sample shape: torch.Size([1, 28, 28]) label: 3\n"
          ]
        },
        {
          "output_type": "display_data",
          "data": {
            "text/plain": [
              "<Figure size 640x480 with 1 Axes>"
            ],
            "image/png": "[encoded data removed]"
          },
          "metadata": {}
        }
      ]
    },
    {
      "cell_type": "markdown",
      "metadata": {
        "id": "j3tSejvJio7E"
      },
      "source": [
        "## 사용자 정의 데이터셋 만들기"
      ]
    },
    {
      "cell_type": "code",
      "source": [
        "# 만약 아래 파일 가져오기가 안되면 gdown을 다시 설치하고\n",
        "# 런타임 다시시작 하고 나서 시도 \n",
        "# https://github.com/wkentaro/gdown/issues/43\n",
        "# !pip install --upgrade --no-cache-dir gdown"
      ],
      "metadata": {
        "id": "1iz1PqABbzMW"
      },
      "execution_count": null,
      "outputs": []
    },
    {
      "cell_type": "code",
      "metadata": {
        "id": "7JlmgZmuD_F4",
        "colab": {
          "base_uri": "https://localhost:8080/"
        },
        "outputId": "86199b81-e8f3-438e-98b4-211434bd3b3c"
      },
      "source": [
        "# 구글 드라이브에 저장된 fashion-mnist csv 파일 불러오기\n",
        "# !gdown --id 1lo-tPwidDyA9uAOUbCkpHetwEuiBxcyp\n",
        "!gdown  1lo-tPwidDyA9uAOUbCkpHetwEuiBxcyp\n",
        "!unzip fashion-mnist-csv.zip"
      ],
      "execution_count": 31,
      "outputs": [
        {
          "output_type": "stream",
          "name": "stdout",
          "text": [
            "Downloading...\n",
            "From: https://drive.google.com/uc?id=1lo-tPwidDyA9uAOUbCkpHetwEuiBxcyp\n",
            "To: /content/fashion-mnist-csv.zip\n",
            "100% 36.3M/36.3M [00:00<00:00, 76.8MB/s]\n",
            "Archive:  fashion-mnist-csv.zip\n",
            "replace fashion-mnist_test.csv? [y]es, [n]o, [A]ll, [N]one, [r]ename: n\n",
            "replace fashion-mnist_train.csv? [y]es, [n]o, [A]ll, [N]one, [r]ename: n\n"
          ]
        }
      ]
    },
    {
      "cell_type": "code",
      "metadata": {
        "id": "Bv84uqzZEOII",
        "colab": {
          "base_uri": "https://localhost:8080/"
        },
        "outputId": "fe796739-5245-49be-b477-6583b39c7f46"
      },
      "source": [
        "!ls -la"
      ],
      "execution_count": 32,
      "outputs": [
        {
          "output_type": "stream",
          "name": "stdout",
          "text": [
            "total 187080\n",
            "drwxr-xr-x 1 root root      4096 Apr  1 05:43 .\n",
            "drwxr-xr-x 1 root root      4096 Apr  1 05:18 ..\n",
            "drwxr-xr-x 4 root root      4096 Mar 30 13:52 .config\n",
            "drwxr-xr-x 3 root root      4096 Apr  1 05:22 data\n",
            "-rw-r--r-- 1 root root  36315660 Apr  1 05:43 fashion-mnist-csv.zip\n",
            "-rw-r--r-- 1 root root  22176691 Sep 21  2019 fashion-mnist_test.csv\n",
            "-rw-r--r-- 1 root root 133047193 Sep 21  2019 fashion-mnist_train.csv\n",
            "drwxr-xr-x 1 root root      4096 Mar 30 13:53 sample_data\n"
          ]
        }
      ]
    },
    {
      "cell_type": "code",
      "metadata": {
        "id": "fiWsVN7d7FK3"
      },
      "source": [
        "nnnn# 이미지 파일 정보가 숫자로 csv파일에 적혀 있으므로 \n",
        "# 판다스로 일단 한번 읽어오기 위해 판다스 임포트\n",
        "import pandas as pd"
      ],
      "execution_count": 33,
      "outputs": []
    },
    {
      "cell_type": "code",
      "metadata": {
        "id": "WnVQODpYOq0x"
      },
      "source": [
        "img_labels = pd.read_csv('fashion-mnist_test.csv')"
      ],
      "execution_count": 34,
      "outputs": []
    },
    {
      "cell_type": "code",
      "metadata": {
        "id": "tQnaM5CiPEf7",
        "colab": {
          "base_uri": "https://localhost:8080/"
        },
        "outputId": "2f31ec10-91c9-432d-bf00-89bb013a6d05"
      },
      "source": [
        "img_labels.shape"
      ],
      "execution_count": 53,
      "outputs": [
        {
          "output_type": "execute_result",
          "data": {
            "text/plain": [
              "(10000, 785)"
            ]
          },
          "metadata": {},
          "execution_count": 53
        }
      ]
    },
    {
      "cell_type": "code",
      "metadata": {
        "id": "1pvff1bBDtxw"
      },
      "source": [
        "# 커스텀 데이터 셋 만들기[+]\n",
        "\n",
        "class CustomImageDataset(Dataset):\n",
        "    def __init__(self, csv, transform=None):\n",
        "        self.data = pd.read_csv(csv).to_numpy()\n",
        "        self.transform = transform\n",
        "\n",
        "    def __len__(self):\n",
        "        return self.data.shape(0)\n",
        "\n",
        "    def __getitem__(self, idx):\n",
        "        # return value assignment\n",
        "        label = self.data[idx,0]\n",
        "        image = self.data[idx,1:].reshape(28,28).astype(np.uint8)\n",
        "        #image = self.data[idx, 1:].reshape(28, 28).astype(np.uint8)\n",
        "        \n",
        "        # transform\n",
        "        if self.transform:\n",
        "           image = self.transform(image)\n",
        "        # return\n",
        "        return image, label\n",
        "\n"
      ],
      "execution_count": 36,
      "outputs": []
    },
    {
      "cell_type": "code",
      "source": [
        "\n",
        "class CustomImageDataset(Dataset):\n",
        "    def __init__(self, csv, transform=None):\n",
        "        self.data = pd.read_csv(csv).to_numpy()\n",
        "        self.transform = transform\n",
        "\n",
        "    def __len__(self):\n",
        "        return self.data.shape[0]\n",
        "\n",
        "    def __getitem__(self, idx):\n",
        "        # return value assignment\n",
        "        label = self.data[idx, 0]\n",
        "        image = self.data[idx, 1:].reshape(28, 28).astype(np.uint8)\n",
        "        \n",
        "        # transform\n",
        "        if self.transform:\n",
        "            image = self.transform(image)\n",
        "        \n",
        "        return image, label"
      ],
      "metadata": {
        "id": "mmfhmtU1Y8PI"
      },
      "execution_count": 58,
      "outputs": []
    },
    {
      "cell_type": "code",
      "metadata": {
        "id": "l7WiwWdzQGRw"
      },
      "source": [
        "# transform 없는 상태로 데이터셋 만들기\n",
        "D_train = CustomImageDataset('fashion-mnist_train.csv')"
      ],
      "execution_count": 59,
      "outputs": []
    },
    {
      "cell_type": "code",
      "source": [
        "len(D_train )"
      ],
      "metadata": {
        "colab": {
          "base_uri": "https://localhost:8080/"
        },
        "id": "gEg5fP8rYXnU",
        "outputId": "cd8e6455-c190-4c2e-8baa-fc9ffe233730"
      },
      "execution_count": 60,
      "outputs": [
        {
          "output_type": "execute_result",
          "data": {
            "text/plain": [
              "60000"
            ]
          },
          "metadata": {},
          "execution_count": 60
        }
      ]
    },
    {
      "cell_type": "code",
      "metadata": {
        "id": "xWSnoK2TQWhs",
        "colab": {
          "base_uri": "https://localhost:8080/",
          "height": 488
        },
        "outputId": "3d4934a5-446a-4e8b-81dd-ea6f1dd1ad0e"
      },
      "source": [
        "X, y = D_train[10]\n",
        "\n",
        "# 데이터셋으로 부터 반환되는 데이터 X의 타입과 값 확인\n",
        "print(type(X), X.dtype, X.shape, y, X[0])\n",
        "\n",
        "# 이미지 확인\n",
        "fig = plt.figure()\n",
        "ax = plt.axes()\n",
        "\n",
        "ax.imshow(X, cmap='binary')\n",
        "ax.set_title(labels_map[y])\n",
        "plt.show()\n"
      ],
      "execution_count": 61,
      "outputs": [
        {
          "output_type": "stream",
          "name": "stdout",
          "text": [
            "<class 'numpy.ndarray'> uint8 (28, 28) 0 [  0   0   0   0   1   0   0   0   0  41 162 167  84  30  38  94 177 176\n",
            "  26   0   0   0   1   0   0   0   0   0]\n"
          ]
        },
        {
          "output_type": "display_data",
          "data": {
            "text/plain": [
              "<Figure size 640x480 with 1 Axes>"
            ],
            "image/png": "[encoded data removed]"
          },
          "metadata": {}
        }
      ]
    },
    {
      "cell_type": "code",
      "metadata": {
        "id": "2nHpiExoQetL"
      },
      "source": [
        "# transform이 있는 상태로 데이터셋 만들기[+]\n",
        "D_train = CustomImageDataset('fashion-mnist_train.csv', transform=ToTensor())"
      ],
      "execution_count": 62,
      "outputs": []
    },
    {
      "cell_type": "code",
      "metadata": {
        "id": "rZTjNjEcSuXq",
        "colab": {
          "base_uri": "https://localhost:8080/",
          "height": 544
        },
        "outputId": "7ce65978-24a5-4d18-d71e-8101cdfda41c"
      },
      "source": [
        "X, y = D_train[10]\n",
        "\n",
        "# 데이터셋으로 부터 반환되는 데이터 X의 타입과 값 확인\n",
        "# 이전 transform이 없는 상태로 만들었을 때와 주의깊게 비교\n",
        "print(type(X), X.dtype, X.shape, y, X[0][0])\n",
        "\n",
        "# 이미지 확인\n",
        "fig = plt.figure()\n",
        "ax = plt.axes()\n",
        "\n",
        "ax.imshow(X.squeeze().numpy(), cmap='binary')\n",
        "\n",
        "ax.set_title(labels_map[y])\n",
        "plt.show()"
      ],
      "execution_count": 63,
      "outputs": [
        {
          "output_type": "stream",
          "name": "stdout",
          "text": [
            "<class 'torch.Tensor'> torch.float32 torch.Size([1, 28, 28]) 0 tensor([0.0000, 0.0000, 0.0000, 0.0000, 0.0039, 0.0000, 0.0000, 0.0000, 0.0000,\n",
            "        0.1608, 0.6353, 0.6549, 0.3294, 0.1176, 0.1490, 0.3686, 0.6941, 0.6902,\n",
            "        0.1020, 0.0000, 0.0000, 0.0000, 0.0039, 0.0000, 0.0000, 0.0000, 0.0000,\n",
            "        0.0000])\n"
          ]
        },
        {
          "output_type": "display_data",
          "data": {
            "text/plain": [
              "<Figure size 640x480 with 1 Axes>"
            ],
            "image/png": "[encoded data removed]"
          },
          "metadata": {}
        }
      ]
    },
    {
      "cell_type": "markdown",
      "metadata": {
        "id": "Gft9FunUppe9"
      },
      "source": [
        "# 이미지 증강Image Augmentation"
      ]
    },
    {
      "cell_type": "code",
      "metadata": {
        "id": "1H8rx0A7SxvL"
      },
      "source": [
        "# 다양한 transform\n",
        "from torchvision import transforms"
      ],
      "execution_count": 64,
      "outputs": []
    },
    {
      "cell_type": "code",
      "metadata": {
        "id": "LBP9IRR1Ukzd"
      },
      "source": [
        "T = transforms.Compose([\n",
        "    # ndarray->pillow image 아래쪽 flip을 수행하기 위해\n",
        "    transforms.ToPILImage(),  \n",
        "    transforms.RandomVerticalFlip(p=0.5),\n",
        "    # normalize: uint8형이면 ToTensor()에서 0~255->0.~1.\n",
        "    transforms.ToTensor(),\n",
        "])"
      ],
      "execution_count": 65,
      "outputs": []
    },
    {
      "cell_type": "code",
      "metadata": {
        "id": "vIDM_D47UoxQ"
      },
      "source": [
        "D_train = CustomImageDataset('fashion-mnist_train.csv', transform=T)"
      ],
      "execution_count": 66,
      "outputs": []
    },
    {
      "cell_type": "code",
      "source": [
        "len(D_train)"
      ],
      "metadata": {
        "colab": {
          "base_uri": "https://localhost:8080/"
        },
        "id": "CbLetCZKX2Z5",
        "outputId": "32828337-364c-442a-82a5-01d66f348288"
      },
      "execution_count": 67,
      "outputs": [
        {
          "output_type": "execute_result",
          "data": {
            "text/plain": [
              "60000"
            ]
          },
          "metadata": {},
          "execution_count": 67
        }
      ]
    },
    {
      "cell_type": "code",
      "metadata": {
        "id": "BVF1O_gvU6LB",
        "colab": {
          "base_uri": "https://localhost:8080/",
          "height": 544
        },
        "outputId": "878a2b00-7a70-4fbc-b063-fc3bfc9954c5"
      },
      "source": [
        "X, y = D_train[10]\n",
        "\n",
        "print(type(X), X.dtype, X.shape, y, X[0][0])\n",
        "\n",
        "# 이미지 확인\n",
        "fig = plt.figure()\n",
        "ax = plt.axes()\n",
        "\n",
        "ax.imshow(X.squeeze().numpy(), cmap='binary')\n",
        "\n",
        "ax.set_title(labels_map[y])\n",
        "plt.show()"
      ],
      "execution_count": 68,
      "outputs": [
        {
          "output_type": "stream",
          "name": "stdout",
          "text": [
            "<class 'torch.Tensor'> torch.float32 torch.Size([1, 28, 28]) 0 tensor([0.0000, 0.0000, 0.0000, 0.0000, 0.0000, 0.0000, 0.0000, 0.3961, 0.6157,\n",
            "        0.5804, 0.5804, 0.6549, 0.7059, 0.7137, 0.7020, 0.6902, 0.6745, 0.6706,\n",
            "        0.6431, 0.6941, 0.6392, 0.0000, 0.0000, 0.0039, 0.0000, 0.0000, 0.0000,\n",
            "        0.0000])\n"
          ]
        },
        {
          "output_type": "display_data",
          "data": {
            "text/plain": [
              "<Figure size 640x480 with 1 Axes>"
            ],
            "image/png": "[encoded data removed]"
          },
          "metadata": {}
        }
      ]
    },
    {
      "cell_type": "markdown",
      "metadata": {
        "id": "TCAMnnMy3QMa"
      },
      "source": [
        "# 데이터로더DataLoader"
      ]
    },
    {
      "cell_type": "code",
      "metadata": {
        "id": "HCpBHD5KU9Ep"
      },
      "source": [
        "# 데이터 로더 만들기[+]\n",
        "train_loader = DataLoader(D_train, batch_size=64, shuffle=True)\n",
        "train_loader_iter = iter(train_loader) "
      ],
      "execution_count": 69,
      "outputs": []
    },
    {
      "cell_type": "code",
      "metadata": {
        "id": "Gy5XFeUUg-im",
        "colab": {
          "base_uri": "https://localhost:8080/",
          "height": 236
        },
        "outputId": "1b5542b1-ddbf-48e3-bee6-0af98937e866"
      },
      "source": [
        "mini_batch = next(train_loader_iter)\n",
        "\n",
        "# 5장만 그려보기\n",
        "samples5 = mini_batch[0][:5].numpy()\n",
        "print(\"sample shape:\", samples5.shape)\n",
        "\n",
        "images = samples5.squeeze().transpose(1,0,2).reshape(28,-1)\n",
        "\n",
        "fig = plt.figure(figsize=(10,5))\n",
        "ax = plt.axes()\n",
        "\n",
        "ax.imshow(images, cmap='binary')\n",
        "plt.show()"
      ],
      "execution_count": 70,
      "outputs": [
        {
          "output_type": "stream",
          "name": "stdout",
          "text": [
            "sample shape: (5, 1, 28, 28)\n"
          ]
        },
        {
          "output_type": "display_data",
          "data": {
            "text/plain": [
              "<Figure size 1000x500 with 1 Axes>"
            ],
            "image/png": "[encoded data removed]"
          },
          "metadata": {}
        }
      ]
    },
    {
      "cell_type": "code",
      "metadata": {
        "id": "aHQ74SVX3Nu0"
      },
      "source": [
        "# 종합하여 test셋에대해서도 데이터 셋과 데이터 로더 만들기\n",
        "D_test = CustomImageDataset('fashion-mnist_test.csv', transform=ToTensor())\n",
        "test_loader = DataLoader(D_test, batch_size=100, shuffle=False)\n",
        "test_loader_iter = iter(test_loader)"
      ],
      "execution_count": 93,
      "outputs": []
    },
    {
      "cell_type": "markdown",
      "metadata": {
        "id": "TkVPYpwKpgHP"
      },
      "source": [
        "# 실습\n",
        "\n",
        "- 만들어진 데이터 셋과 데이터로더를 이용해서 모델을 만들고 학습합니다.\n",
        "\n",
        "- 학습에 필요한 세가지 보조 함수를 먼저 정의합니다.\n",
        "\n"
      ]
    },
    {
      "cell_type": "markdown",
      "metadata": {
        "id": "3usX_POK_3iz"
      },
      "source": [
        "## 보조함수들"
      ]
    },
    {
      "cell_type": "markdown",
      "source": [
        "### train 함수\n",
        "\n",
        "- `train()`함수는 외부에서 정의된 `model`, `criterion`, `optimizer`, `epochs`를 인자로 받아 학습 루프를 구성합니다.\n",
        "\n",
        "- 이 함수 내부에서 데이터로더를 `for`루프에 어떻게 사용하는지 확인할 수 있습니다."
      ],
      "metadata": {
        "id": "OVwWzCEnxzWl"
      }
    },
    {
      "cell_type": "code",
      "metadata": {
        "id": "uORWMGfE1thg"
      },
      "source": [
        "# train function[+]\n",
        "# 모델과 옵티마이저를 받아서 주어진 에폭만큼 학습시키는 함수\n",
        "def train(model, criterion, optimizer, epochs):\n",
        "    # 먼저 모델을 train모드로 설정\n",
        "    model.train()\n",
        "\n",
        "    # 주어진 에폭만큼 반복하면서(외부루프)\n",
        "    for e in range(epochs):\n",
        "        train_loss = 0.0\n",
        "\n",
        "        # 데이터 셋 전체를 반복하면서(내부루프)\n",
        "        # 학습 5단계를 수행한다.\n",
        "        # 데이터 로더를 for문에 바로 적용하면 한번 반복에 지정된 배치 사이즈 만큼\n",
        "        # 데이터를 반복해서 반환\n",
        "        for i, (X_batched, y_batched) in enumerate(train_loader):\n",
        "            # X_batched:(N,D), y_batched:(N,)\n",
        "            \n",
        "            # zerograd, inference, loss, backward, step\n",
        "            optimizer.zero_grad()\n",
        "            score = model(X_batched)\n",
        "            loss = criterion(score, y_batched)\n",
        "            loss.backward()\n",
        "            optimizer.step()\n",
        "\n",
        "            train_loss += loss\n",
        "        \n",
        "        # 한 에폭이 끝났으면 평균로스, 학습 정확도, 테스트 정확도 등을 구해서\n",
        "        # 화면에 출력한다.\n",
        "        # 단, 이때는 그래디언트 계산을 위한 계산 그래프를 추적할 필요가 없으므로\n",
        "        # no_grad()를 설정한다.\n",
        "        with torch.no_grad():\n",
        "            avg_train_loss = train_loss / len(train_loader)\n",
        "            \n",
        "            print(f\"EPOCH: {e}, AVG TRAIN LOSS: {avg_train_loss.item():.6f}\")"
      ],
      "execution_count": 72,
      "outputs": []
    },
    {
      "cell_type": "markdown",
      "source": [
        "### eval 함수\n",
        "\n",
        "- 학습된 모델을 전달받아 테스트 셋에 대해 성능을 측정하는 함수입니다.\n",
        "\n",
        "- 이 함수는 모델이 어떤 형식으로 출력을 되돌리냐에 따라 후속 코드가 다랄져야 합니다. 아래 코드를 보면\n",
        "```python\n",
        "score = model(X_batched)\n",
        "softmax_score = torch.nn.functional.softmax(score, dim=-1)\n",
        "y_pred = torch.argmax(softmax_score, dim=-1)\n",
        "```\n",
        "\n",
        "- 모델의 마지막 출력에 아무런 활성홤수를 취하지 않음을 가정하고 있기 때문에 온전한 출력을 만들어 테스트 하기 위해 직접 `softmax`함수와 `argmax`함수를 적용하고 있는 것을 알 수 있습니다.\n",
        "\n",
        "- 만약 모델의 출력에 이미 `softmax`나 `logsoftmax`따위가 적용되어 있다면 이 부분이 달라져야 합니다.\n",
        "\n",
        "- 아래 MLP 실습예제를 풀면서 이부분을 직접 연습해볼 수 있습니다."
      ],
      "metadata": {
        "id": "4rX1kED7x20m"
      }
    },
    {
      "cell_type": "code",
      "metadata": {
        "id": "LxqaaCJM3i0J"
      },
      "source": [
        "# eval function[+]\n",
        "# 학습된 모델을 넘겨 받아 테스트세트에 대해서 성능을 계산\n",
        "def eval_model_linear(model):\n",
        "    # 먼저 모델을 eval모드로 설정\n",
        "    model.eval()\n",
        "\n",
        "    corr = 0\n",
        "    # 테스트로더에서 테스트 샘플을 받아와서 \n",
        "    # 모델의 최종 출력과 적합하게 score를 계산한다.\n",
        "    for i, (X_batched, y_batched) in enumerate(test_loader):\n",
        "        # X_batched:(N,D), y_batched:(N,)\n",
        "        \n",
        "        # 모델의 마지막 출력은 linear층으로 부터 얻어진다고 가정\n",
        "        # 그래서 이 함수의 이름 끝에 _linear가 있음\n",
        "        score = model(X_batched)\n",
        "\n",
        "        # linear로 출력된 결과에 다클래스 분류를 위해 softmax를 적용\n",
        "        softmax_score = torch.nn.functional.softmax(score, dim=-1)\n",
        "\n",
        "        # 다시 argmax를 적용해서 제일 큰 자리의 인덱스 값을 알아옴\n",
        "        y_pred = torch.argmax(softmax_score, dim=-1)\n",
        "        \n",
        "        # 구해진 인덱스가 y_batched하고 같은지 검사\n",
        "        # corr에는 같은 개수(맞춘 개수)가 합산됨\n",
        "        corr += (y_pred == y_batched).sum()\n",
        "\n",
        "    test_acc = corr.item()/len(D_test)\n",
        "    print(f\"Test Acc: {test_acc}\")"
      ],
      "execution_count": 73,
      "outputs": []
    },
    {
      "cell_type": "markdown",
      "source": [
        "### 샘플링 함수\n",
        "\n",
        "- 이미지 몇장에 대한 예측을 하고 예측 결과를 그림으로 표시하는 보조함수"
      ],
      "metadata": {
        "id": "FL2BNHzGyEIF"
      }
    },
    {
      "cell_type": "code",
      "metadata": {
        "id": "B47YY_Fh6M97"
      },
      "source": [
        "def sampling(model, mini_batch, num_samples):\n",
        "    \n",
        "    X_batched = mini_batch[0][:num_samples]\n",
        "    y_batched = mini_batch[1][:num_samples]\n",
        "\n",
        "    score = model(X_batched)\n",
        "    softmax_score = torch.nn.functional.softmax(score, dim=-1)\n",
        "    y_pred = torch.argmax(softmax_score, dim=-1)\n",
        "\n",
        "    fig, ax = plt.subplots(figsize=(10,5), nrows=1, ncols=num_samples)\n",
        "\n",
        "    for i in range(num_samples):\n",
        "        ax[i].imshow(X_batched[i].squeeze(), cmap='binary')\n",
        "        ax[i].set_title(f\"{labels_map[y_batched[i].item()]}:{labels_map[y_pred[i].item()]}\")\n",
        "\n",
        "    plt.show()"
      ],
      "execution_count": 74,
      "outputs": []
    },
    {
      "cell_type": "markdown",
      "metadata": {
        "id": "OXAw0Q1Ju6RK"
      },
      "source": [
        "## Softmax Regression\n",
        "\n",
        "- 만들어진 Dataset, DataLoader로 Softmax 회귀 모델 작성합니다.\n",
        "\n",
        "- 다음 명세를 지켜서 모델을 수립하고 학습시키세요.\n",
        "    - Model: `Sequentail`\n",
        "    - Optimizer: `SGD`\n",
        "    - Loss: `CrossEntropyLoss`\n",
        "\n",
        "$$\n",
        "\\ell(W) = - \\sum_{i=1}^N \\sum_{j=1}^C y_{ij} \\log\\left(\\text{Softmax}\\left(f\\left(\\mathbf{x}_{i}\\right) \\right)_j \\right)\n",
        "$$\n",
        "\n",
        "- 위 식에서 $f\\left(\\mathbf{x}_{i}\\right)$는 네트워크가 출력하는 스코어로 `CrossEntropyLoss` 손실 함수는 내부에서 소프트맥스와 로그를 취하기 때문에 모델은 `Linear()`로 끝나게 작성되어야 합니다."
      ]
    },
    {
      "cell_type": "code",
      "metadata": {
        "id": "aOjNQ4TOqoDK",
        "colab": {
          "base_uri": "https://localhost:8080/"
        },
        "outputId": "77410267-fc6f-4c2f-b4a3-fa83be7e9329"
      },
      "source": [
        "# model define[+]\n",
        "model = torch.nn.Sequential(\n",
        "    torch.nn.Flatten(), # (28,28)인 이미지를 (784,)로 펼치기 위해 배치\n",
        "    torch.nn.Linear(784,10) # Linear()를 배치\n",
        ")\n",
        "\n",
        "# forward test\n",
        "# 이 부분의 실행결과가 임의의 숫자 10개가 출력되면 됨\n",
        "X_batched, y_batched = next(train_loader_iter)\n",
        "score = model(X_batched)\n",
        "print('score.shape:', score.shape, score[0])\n"
      ],
      "execution_count": 76,
      "outputs": [
        {
          "output_type": "stream",
          "name": "stdout",
          "text": [
            "score.shape: torch.Size([64, 10]) tensor([-0.1707, -0.1915,  0.1047, -0.1111, -0.0257, -0.0952,  0.3247, -0.0148,\n",
            "        -0.0909, -0.1710], grad_fn=<SelectBackward0>)\n"
          ]
        }
      ]
    },
    {
      "cell_type": "markdown",
      "source": [
        "- 다음으로 손실 함수와 옵티마이저를 정의 합니다. "
      ],
      "metadata": {
        "id": "il3t06vxVMbe"
      }
    },
    {
      "cell_type": "code",
      "metadata": {
        "id": "lA2TzZS82BGB"
      },
      "source": [
        "# optimizer and loss[+]\n",
        "criterion = torch.nn.CrossEntropyLoss()\n",
        "optimizer = torch.optim.SGD(model.parameters(), lr=0.01)"
      ],
      "execution_count": 78,
      "outputs": []
    },
    {
      "cell_type": "markdown",
      "source": [
        "- 보조함수에서 정의한 `train()`에 적당한 인자를 넘기면서 만들어진 모델을 학습 시킵니다.\n",
        "\n",
        "- `train()`이 매 에폭마다 정확도를 계산해서 출력하지는 않지만 손실이 줄어드는 것을 확인할 수 있습니다. 이를 통해 학습이 제대로 진행되고 있는지 확인할 수 있습니다."
      ],
      "metadata": {
        "id": "P6S-9Pz6VNu-"
      }
    },
    {
      "cell_type": "code",
      "metadata": {
        "id": "u97CdkNYqGAA",
        "colab": {
          "base_uri": "https://localhost:8080/"
        },
        "outputId": "5adc8923-e1bc-467a-c5f1-42c8a0019480"
      },
      "source": [
        "# train model 10 epochs run time: about 1 min.[+]\n",
        "train(model, criterion, optimizer, 10)"
      ],
      "execution_count": 80,
      "outputs": [
        {
          "output_type": "stream",
          "name": "stdout",
          "text": [
            "EPOCH: 0, AVG TRAIN LOSS: 1.149011\n",
            "EPOCH: 1, AVG TRAIN LOSS: 0.858189\n",
            "EPOCH: 2, AVG TRAIN LOSS: 0.785062\n",
            "EPOCH: 3, AVG TRAIN LOSS: 0.742562\n",
            "EPOCH: 4, AVG TRAIN LOSS: 0.714431\n",
            "EPOCH: 5, AVG TRAIN LOSS: 0.693225\n",
            "EPOCH: 6, AVG TRAIN LOSS: 0.676817\n",
            "EPOCH: 7, AVG TRAIN LOSS: 0.663532\n",
            "EPOCH: 8, AVG TRAIN LOSS: 0.652252\n",
            "EPOCH: 9, AVG TRAIN LOSS: 0.643096\n"
          ]
        }
      ]
    },
    {
      "cell_type": "markdown",
      "source": [
        "- 모든 학습이 정상적으로 완료되었다면 아래 `eval_model_linear()`를 호출했을 때 0.7 후반대 정확도를 얻을 수 있습니다."
      ],
      "metadata": {
        "id": "xZ8dmgt0VPut"
      }
    },
    {
      "cell_type": "code",
      "metadata": {
        "id": "VFdcVG1ZqGjB",
        "colab": {
          "base_uri": "https://localhost:8080/"
        },
        "outputId": "94d3e2ac-344c-4a27-c3a6-5b34f606ae13"
      },
      "source": [
        "# evaluation model, about 0.78xx\n",
        "eval_model_linear(model)"
      ],
      "execution_count": 81,
      "outputs": [
        {
          "output_type": "stream",
          "name": "stdout",
          "text": [
            "Test Acc: 0.7861\n"
          ]
        }
      ]
    },
    {
      "cell_type": "code",
      "metadata": {
        "id": "cLHXJmpAqJyf",
        "colab": {
          "base_uri": "https://localhost:8080/",
          "height": 216
        },
        "outputId": "e371213e-656a-42f2-adc9-9cee1cd7cbfc"
      },
      "source": [
        " # sampling\n",
        "mini_batch = next(test_loader_iter)\n",
        "sampling(model, mini_batch, 5)"
      ],
      "execution_count": 82,
      "outputs": [
        {
          "output_type": "display_data",
          "data": {
            "text/plain": [
              "<Figure size 1000x500 with 5 Axes>"
            ],
            "image/png": "[encoded data removed]"
          },
          "metadata": {}
        }
      ]
    },
    {
      "cell_type": "markdown",
      "metadata": {
        "id": "-lKhcQs3u9J_"
      },
      "source": [
        "## MLP\n",
        "\n",
        "\n",
        "- 이 실습에서 로스 함수를 다양하게 변경해가면서 다층 모델을 구성하도록 하겠습니다.\n",
        "\n",
        "- 모든 모델을 2 레이어 이상으로 구성하고 적절히 변형된 손실 함수와 `eval_model_*()` 코딩해야 합니다.\n",
        "\n"
      ]
    },
    {
      "cell_type": "markdown",
      "metadata": {
        "id": "TRmv46KWtZZF"
      },
      "source": [
        "### NLLLoss\n",
        "- 만들어진 Dataset, DataLoader로 MLP 모델을 작성합니다.\n",
        "\n",
        "- 다음 명세를 지켜서 모델을 수립하고 학습시키세요.\n",
        "    - Model: `Sequentail`\n",
        "    - 레이어 활성함수: `ReLU`\n",
        "    - Optimizer: `Adam`\n",
        "    - Loss: `NLLLoss`\n",
        "\n",
        "$$\n",
        "\\ell(W) = - \\sum_{i=1}^N \\sum_{j=1}^C y_{ij} \\log\\left(\\text{Softmax}\\left(f\\left(\\mathbf{x}_{i}\\right) \\right)_j \\right)\n",
        "$$\n",
        "\n",
        "- 위 식에서 $f\\left(\\mathbf{x}_{i}\\right)$는 네트워크가 출력하는 스코어로 `NLLLoss` 손실 함수는 내부에서 소프트맥스와 로그를 취하지 않기 때문에 모델은 `Linear()`로 끝나서는 안되며 part2의 소프트맥스 회귀 모델처럼 `LogSoftmax()`로 끝나게 작성되어야 합니다.\n"
      ]
    },
    {
      "cell_type": "code",
      "metadata": {
        "id": "gqjs1yrMqrCf",
        "colab": {
          "base_uri": "https://localhost:8080/"
        },
        "outputId": "b2e1b0db-78e1-4512-b44d-58ae55a4d786"
      },
      "source": [
        "# model define\n",
        "model = torch.nn.Sequential(\n",
        "    ######################################\n",
        "    # WRITE YOUR CDDE HERE[+]\n",
        "    # 여기 적당히 멀티레이어 퍼셉트론 모델을 정의 하기\n",
        "    # 마지막 레이어는 NLLLoss()를 쓸수 있게 구성해야 함\n",
        "    torch.nn.Flatten(),\n",
        "    torch.nn.Linear(784, 128), # 적당한 입력 크기와 출력 크기를 설정\n",
        "    torch.nn.ReLU(),  # 레이어 활성 함수를 배치\n",
        "    torch.nn.Linear(128, 10), # 적당한 입력 크기와 출력 크기를 설정\n",
        "    torch.nn.LogSoftmax(dim=-1) # 마지막 레이어 활성 함수를 배치\n",
        "    ######################################\n",
        ")\n",
        "\n",
        "# forward test\n",
        "X_batched, y_batched = next(train_loader_iter)\n",
        "score = model(X_batched)\n",
        "print('score.shape:', score.shape)\n"
      ],
      "execution_count": 103,
      "outputs": [
        {
          "output_type": "stream",
          "name": "stdout",
          "text": [
            "score.shape: torch.Size([64, 10])\n"
          ]
        }
      ]
    },
    {
      "cell_type": "code",
      "metadata": {
        "id": "ons_WS8d_AYH"
      },
      "source": [
        "# optimizer and loss\n",
        "\n",
        "######################################\n",
        "# WRITE YOUR CDDE HERE[*]\n",
        "# 실습 요구 사항에 맞게 로스와 옵티마이저를 초기화 하기\n",
        "criterion = torch.nn.NLLLoss()\n",
        "optimizer = torch.optim.Adam(model.parameters(), lr=0.01)"
      ],
      "execution_count": 106,
      "outputs": []
    },
    {
      "cell_type": "code",
      "metadata": {
        "id": "q-W-WcDd_DLF",
        "colab": {
          "base_uri": "https://localhost:8080/"
        },
        "outputId": "9d683e0c-2692-4395-f43b-140077d71652"
      },
      "source": [
        "# train model run time: 1 min.\n",
        "\n",
        "######################################\n",
        "# WRITE YOUR CDDE HERE\n",
        "# train함수를 epoch 5 로 실행하세요. \n",
        "train(model, criterion, optimizer, 5)"
      ],
      "execution_count": 107,
      "outputs": [
        {
          "output_type": "stream",
          "name": "stdout",
          "text": [
            "EPOCH: 0, AVG TRAIN LOSS: 0.615493\n",
            "EPOCH: 1, AVG TRAIN LOSS: 0.507666\n",
            "EPOCH: 2, AVG TRAIN LOSS: 0.479149\n",
            "EPOCH: 3, AVG TRAIN LOSS: 0.463098\n",
            "EPOCH: 4, AVG TRAIN LOSS: 0.458702\n"
          ]
        }
      ]
    },
    {
      "cell_type": "markdown",
      "source": [
        "- 모델 출력이 `LogSoftmax()`로 바뀌었으므로 `eval_model_linear()`를 일부 수정해야 합니다.\n",
        "\n",
        "- 아래 `eval_model_logsoftmax()`를 주석을 참고하여 완성하세요."
      ],
      "metadata": {
        "id": "2X0hXoSgXViV"
      }
    },
    {
      "cell_type": "code",
      "metadata": {
        "id": "U7pJ367XI03w"
      },
      "source": [
        "# eval function\n",
        "def eval_model_logsoftmax(model):\n",
        "    model.eval()\n",
        "\n",
        "    corr = 0\n",
        "    for i, (X_batched, y_batched) in enumerate(test_loader):\n",
        "        score = model(X_batched)\n",
        "\n",
        "        ######################################\n",
        "        # WRITE YOUR CDDE HERE[*]\n",
        "        #\n",
        "        # model을 포워드 시키고 돌려 받은 결과를 \n",
        "        # y_batched와 비교할 수 있는 형식으로 변경 하세요.\n",
        "        # score에 이미 적용된 log를 벗겨서 softmax_score로 만드세요.\n",
        "        softmax_score = torch.exp(score)\n",
        "\n",
        "        # 변형된 결과를 y_pred에 저장하세요.\n",
        "        # y_pred는 아래쪽 \n",
        "        # corr += (y_pred == y_batched).sum() \n",
        "        # 이 올바르게 실행될 수 있게 구성되어야 합니다.\n",
        "        y_pred = torch.argmax(softmax_score, dim=-1)\n",
        "        ######################################\n",
        "\n",
        "        # y_batched에는 test_loader가 정의될때 지정된 batch_size 만큼의\n",
        "        # 샘플에 대한 정답 숫자가 들어 있음\n",
        "        # (0, 1, 5, 0 , 7, 8, 9, 2, ...) 이런식...\n",
        "        corr += (y_pred == y_batched).sum()\n",
        "\n",
        "    test_acc = corr.item()/len(D_test)\n",
        "    print(f\"Test Acc: {test_acc}\")"
      ],
      "execution_count": 109,
      "outputs": []
    },
    {
      "cell_type": "markdown",
      "source": [
        "- 모든 학습이 정상적으로 완료되었다면 아래 `eval_model_logsoftmax()`를 호출했을 때 0.8 초중반대 정확도를 얻을 수 있어야 합니다.\n",
        "\n",
        "- 만약 점수에 이에 미치지 못한다면 레이어의 구성을 바꿔보세요. 레이어를 더 추가 한다든지 레이어의 노드 수를 늘린다든지 다양한 시도가 필요할 수 있습니다."
      ],
      "metadata": {
        "id": "YyjujadNY9DR"
      }
    },
    {
      "cell_type": "code",
      "metadata": {
        "id": "NhnlctJh_HZx",
        "colab": {
          "base_uri": "https://localhost:8080/"
        },
        "outputId": "83d4d65a-253e-4f86-970f-f2d6b286bb0c"
      },
      "source": [
        "# evaluation model, about 0.80~0.84\n",
        "\n",
        "######################################\n",
        "# WRITE YOUR CDDE HERE\n",
        "# eval_model_logsoftmax()를 호출하기 전에 위쪽 함수 바디를 \n",
        "# 완성하고 호출하세요.\n",
        "eval_model_logsoftmax(model)"
      ],
      "execution_count": 112,
      "outputs": [
        {
          "output_type": "stream",
          "name": "stdout",
          "text": [
            "Test Acc: 0.8187\n"
          ]
        }
      ]
    },
    {
      "cell_type": "code",
      "metadata": {
        "id": "KmEfoJIP_6Ha",
        "colab": {
          "base_uri": "https://localhost:8080/",
          "height": 216
        },
        "outputId": "55a71472-cd3d-4865-d2f5-aa678486ace5"
      },
      "source": [
        "# sampling\n",
        "mini_batch = next(test_loader_iter)\n",
        "sampling(model, mini_batch, 5)"
      ],
      "execution_count": 113,
      "outputs": [
        {
          "output_type": "display_data",
          "data": {
            "text/plain": [
              "<Figure size 1000x500 with 5 Axes>"
            ],
            "image/png": "[encoded data removed]"
          },
          "metadata": {}
        }
      ]
    },
    {
      "cell_type": "markdown",
      "metadata": {
        "id": "V6yBUtLotcwz"
      },
      "source": [
        "### BCELoss\n",
        "\n",
        "-  다클래스 분류 문제를 BCELoss를 사용하여 풀기\n",
        "\n",
        "- 다음 명세를 지켜서 모델을 수립하고 학습시키세요.\n",
        "    - Model: `Sequentail`\n",
        "    - 레이어 활성함수: `ReLU`\n",
        "    - Optimizer: `Adam`\n",
        "    - Loss: `BCELoss`\n",
        "\n",
        "$$\n",
        "L  = - \\sum_{i=1}^N \\sum_{j=1}^C y_{ij} \\log \\left( \\text{Sigmoid}(f(\\mathbf{x}_i))_j \\right) + (1-y_{ij}) \\log (1 - \\text{Sigmoid}(f(\\mathbf{x}_i))_j )\n",
        "$$\n",
        "\n",
        "\n",
        "- 위 식에서 $f\\left(\\mathbf{x}_{i}\\right)$는 네트워크가 출력하는 스코어로 `BCELoss` 손실 함수는 내부에서 시그모이드를 취하지 않기 때문에 모델은 `Linear()`로 끝나서는 `Sigmoid()`로 끝나게 작성되어야 합니다."
      ]
    },
    {
      "cell_type": "code",
      "metadata": {
        "id": "C9CR_FLdu7cv",
        "colab": {
          "base_uri": "https://localhost:8080/"
        },
        "outputId": "653f06c0-5bbb-4d81-f2a6-6e5c436ea774"
      },
      "source": [
        "# model define\n",
        "\n",
        "model = torch.nn.Sequential(\n",
        "    ###########################################################\n",
        "    # WRITE YOUR CDDE HERE[*]\n",
        "    # BCELoss()를 쓸경우 최종 출력 layer를 알맞게 코딩하세요.\n",
        "    torch.nn.Flatten(),\n",
        "    torch.nn.Linear(784, 128),\n",
        "    torch.nn.ReLU(),\n",
        "    torch.nn.Linear(128, 10),\n",
        "    torch.nn.Sigmoid()\n",
        "    ###########################################################\n",
        ")\n",
        "\n",
        "\n",
        "# forward test\n",
        "X_batched, y_batched = next(train_loader_iter)\n",
        "score = model(X_batched)\n",
        "print('score.shape:', score.shape)"
      ],
      "execution_count": 115,
      "outputs": [
        {
          "output_type": "stream",
          "name": "stdout",
          "text": [
            "score.shape: torch.Size([64, 10])\n"
          ]
        }
      ]
    },
    {
      "cell_type": "markdown",
      "source": [
        "- `torch.nn.BCELoss()` 손실함수는 정답 $y$와 모델의 출력 $\\hat{y}$의 모양이 동일해야 에러없이 작동합니다.\n",
        "\n",
        "- 즉 10 클래스가 있는 문제에서 5개 샘플에 대해서 정답 레이블이 다음과 같다면\n",
        "```python \n",
        "y = [1, 3, 2, 0, 8]\n",
        "```\n",
        "\n",
        "- 이 정답 레이블은 다음처럼 원핫인코딩 되어어 `BCELoss()`에 입력되어야 합니다.\n",
        "```\n",
        "y_onehot = [[0, 1, 0, 0, 0, 0, 0, 0, 0, 0],\n",
        "            [0, 0, 0, 1, 0, 0, 0, 0, 0, 0],\n",
        "            [0, 0, 1, 0, 0, 0, 0, 0, 0, 0],\n",
        "            [1, 0, 0, 0, 0, 0, 0, 0, 0, 0],\n",
        "            [0, 0, 0, 0, 0, 0, 0, 0, 1, 0]]\n",
        "```"
      ],
      "metadata": {
        "id": "0XN1S4z9glzy"
      }
    },
    {
      "cell_type": "code",
      "metadata": {
        "id": "luoqlAQBvJv2"
      },
      "source": [
        "# train function\n",
        "def train_with_bceloss(model, criterion, optimizer, epochs):\n",
        "    model.train()\n",
        "\n",
        "    for e in range(epochs):\n",
        "        train_loss = 0.0\n",
        "\n",
        "        for i, (X_batched, y_batched) in enumerate(train_loader):\n",
        "            # zerograd, inference, loss, backward, step\n",
        "            optimizer.zero_grad()\n",
        "            score = model(X_batched) # (N,C)         \n",
        "\n",
        "            ####################################################################\n",
        "            # WRITE YOUR CDDE HERE[*]\n",
        "            # 정답벡터 y_batched를 BCELoss에 알맞게 변형\n",
        "            # BCELoss를 사용할 경우 모델의 출력과 비교하는 정답이 텐서가 \n",
        "            # 모양이 같아야 합니다.\n",
        "            # 현재 score 텐서는 (N,C)입니다.\n",
        "            # 따라서 정답벡터 y_batched도 (N,) -> (N,C)로 원핫인코딩해야합니다.\n",
        "            # 두단계로 y_batched_onehot을 완성하세요.\n",
        "            #\n",
        "            # 단계1: 0으로 채워진 score와 모양이 같은 2차원 어레이를 torch.zero_like로 만들기\n",
        "            y_batched_onehot = torch.zeros_like(score)\n",
        "            \n",
        "            # 단계2: y_batched_onehot의 정답자리에 1 채워넣기\n",
        "            # numpy에서 배운 행과 열을 어레이 인덱싱하는 예제를 참고하여\n",
        "            # 아래 코드를 완성하세요.\n",
        "            # 행은 모든 행을 지정하고, 열은 y_batched에 적힌 숫자를 이용해서 \n",
        "            # 지정하면 됩니다.\n",
        "            # 모든 행번호를 지정하기 위해 torch.arange()를 사용하세요.\n",
        "            y_batched_onehot[torch.arange(score.shape[0]), y_batched] = 1.0 \n",
        "            ####################################################################\n",
        "\n",
        "            loss = criterion(score, y_batched_onehot)\n",
        "            loss.backward()\n",
        "            optimizer.step()\n",
        "\n",
        "            train_loss += loss\n",
        "        \n",
        "        with torch.no_grad():\n",
        "            avg_train_loss = train_loss / len(train_loader)\n",
        "            print(f\"EPOCH: {e}, AVG TRAIN LOSS: {avg_train_loss.item():.6f}\")"
      ],
      "execution_count": 117,
      "outputs": []
    },
    {
      "cell_type": "markdown",
      "source": [
        "- 동일한 이유로 `eval_model_*`함수도 수정해야 합니다.\n",
        "\n",
        "- 모델이 출력에 시그모이드 함수를 이미 적용해서 출력하므로 정답을 테스트하기위해서 출력에 간단히 `argmax()`만 적용하면 됩니다."
      ],
      "metadata": {
        "id": "-eah1ZPfiY_p"
      }
    },
    {
      "cell_type": "code",
      "metadata": {
        "id": "r2mPUASnyC2I"
      },
      "source": [
        "# eval function\n",
        "def eval_model_sigmoid(model):\n",
        "    model.eval()\n",
        "\n",
        "    corr = 0\n",
        "    for i, (X_batched, y_batched) in enumerate(test_loader):\n",
        "        score = model(X_batched)\n",
        "        y_pred = torch.argmax(score, dim=-1)\n",
        "        \n",
        "        corr += (y_pred == y_batched).sum()\n",
        "\n",
        "    test_acc = corr.item()/len(D_test)\n",
        "    print(f\"Test Acc: {test_acc}\")"
      ],
      "execution_count": 118,
      "outputs": []
    },
    {
      "cell_type": "code",
      "metadata": {
        "id": "b4zmdk-9u1DS"
      },
      "source": [
        "# optimizer and loss[*]\n",
        "criterion = torch.nn.BCELoss()\n",
        "optimizer = torch.optim.Adam(model.parameters(), lr=0.01)"
      ],
      "execution_count": 119,
      "outputs": []
    },
    {
      "cell_type": "code",
      "metadata": {
        "id": "Mb35n51Tu_SK",
        "colab": {
          "base_uri": "https://localhost:8080/"
        },
        "outputId": "5da1814c-ea37-4e0c-b43a-a4d55c814d82"
      },
      "source": [
        "# train model run time: 1 min.\n",
        "train_with_bceloss(model, criterion, optimizer, 5)"
      ],
      "execution_count": 120,
      "outputs": [
        {
          "output_type": "stream",
          "name": "stdout",
          "text": [
            "EPOCH: 0, AVG TRAIN LOSS: 0.108442\n",
            "EPOCH: 1, AVG TRAIN LOSS: 0.086536\n",
            "EPOCH: 2, AVG TRAIN LOSS: 0.081606\n",
            "EPOCH: 3, AVG TRAIN LOSS: 0.078978\n",
            "EPOCH: 4, AVG TRAIN LOSS: 0.077494\n"
          ]
        }
      ]
    },
    {
      "cell_type": "markdown",
      "source": [
        "- 모든 학습이 정상적으로 완료되었다면 아래 `eval_model_sigmoid()`를 호출했을 때 0.8 초중반대 정확도를 얻을 수 있어야 합니다.\n"
      ],
      "metadata": {
        "id": "3yg5ghrujMeZ"
      }
    },
    {
      "cell_type": "code",
      "metadata": {
        "id": "yEGhlcrRxsDI"
      },
      "source": [
        "# evaluation model, about 0.82~0.84\n",
        "\n",
        "eval_model_sigmoid(model)"
      ],
      "execution_count": null,
      "outputs": []
    }
  ]
}