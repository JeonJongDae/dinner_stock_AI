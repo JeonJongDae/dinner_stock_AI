{
  "nbformat": 4,
  "nbformat_minor": 0,
  "metadata": {
    "colab": {
      "provenance": [],
      "authorship_tag": "ABX9TyPf7iFi45pqhleOjHZR839J",
      "include_colab_link": true
    },
    "kernelspec": {
      "name": "python3",
      "display_name": "Python 3"
    },
    "language_info": {
      "name": "python"
    }
  },
  "cells": [
    {
      "cell_type": "markdown",
      "metadata": {
        "id": "view-in-github",
        "colab_type": "text"
      },
      "source": [
        "<a href=\"https://colab.research.google.com/github/JeonJongDae/dinner_stock_AI/blob/main/4%EC%A3%BC%EC%B0%A8/%EB%8D%B0%EC%9D%B4%ED%84%B0%EC%88%98%EC%A7%91_%EB%84%A4%EC%9D%B4%EB%B2%84_%EC%A3%BC%EC%9A%94%EB%89%B4%EC%8A%A4_ipynb%EC%9D%98_%EC%82%AC%EB%B3%B8.ipynb\" target=\"_parent\"><img src=\"https://colab.research.google.com/assets/colab-badge.svg\" alt=\"Open In Colab\"/></a>"
      ]
    },
    {
      "cell_type": "code",
      "execution_count": 52,
      "metadata": {
        "id": "5ut61Ti301nT"
      },
      "outputs": [],
      "source": [
        "from bs4 import BeautifulSoup \n",
        "import requests \n",
        "import pandas as pd\n",
        "url = \"https://finance.naver.com/news/mainnews.naver\"\n",
        "r = requests.get(url)"
      ]
    },
    {
      "cell_type": "code",
      "source": [
        "soup = BeautifulSoup(r.content,'lxml') \n",
        "post_list =soup.find_all('li', {'class':'block1'})"
      ],
      "metadata": {
        "id": "vDi6rHLaRAG2"
      },
      "execution_count": 55,
      "outputs": []
    },
    {
      "cell_type": "code",
      "source": [
        "remark_list =[]\n",
        "article_list=[]\n",
        "press_list=[]\n",
        "\n",
        "\n",
        "for post in post_list:\n",
        "    print(post)\n",
        "    remark = post.find('dd',{'class':'articleSubject'}).text.strip()\n",
        "    article = post.find('dd',{'class':'articleSummary'}).text.strip()\n",
        "    press=post.find('span',{'class':'wdate'}).text.strip()\n",
        "    article_list.append(article)\n",
        "    press_list.append(press)\n",
        "    remark_list.append(remark)\n",
        "\n",
        "    print(article_list)\n",
        "    print(press_list)\n",
        "    print(remark_list)\n",
        "  \n"
      ],
      "metadata": {
        "colab": {
          "base_uri": "https://localhost:8080/"
        },
        "id": "SIQ9WjnFResc",
        "outputId": "08dca73a-695a-4df9-830b-a61ceb36eba7"
      },
      "execution_count": 60,
      "outputs": [
        {
          "output_type": "stream",
          "name": "stdout",
          "text": [
            "<li class=\"block1\">\n",
            "<dl>\n",
            "<dt class=\"thumb\">\n",
            "<a href=\"/news/news_read.naver?article_id=0005466063&amp;office_id=018&amp;mode=mainnews&amp;type=&amp;date=2023-04-18&amp;page=1\"><img onerror=\"this.src='https://ssl.pstatic.net/static/nfinance/2017/02/27/thumb_72x54.gif'\" src=\"https://imgnews.pstatic.net/image/thumb70/018/2023/04/18/5466063.jpg\"/></a>\n",
            "</dt>\n",
            "<dd class=\"articleSubject\">\n",
            "<span class=\"remark\"></span> <!-- 말머리는 span class=\"remark\" 로 묶임 -->\n",
            "<a href=\"/news/news_read.naver?article_id=0005466063&amp;office_id=018&amp;mode=mainnews&amp;type=&amp;date=2023-04-18&amp;page=1\">美 경제지표 호조…환율, 1320원대 초반 등락 예상[외환브리핑]</a>\n",
            "</dd>\n",
            "<dd class=\"articleSummary\">\n",
            "\t\t\t\t\t\t\t\t\t\t역외 1316.8원…상승 출발 전망제조업·부동산 호조에 연준 추가 긴축 우려↑달러인덱스 102 초반 등락, 강세[이데일리 하상렬 기자]..\n",
            "\t\t\t\t\t\t\t\t\t\t<span class=\"press\">이데일리 </span>\n",
            "<span class=\"bar\">|</span>\n",
            "<span class=\"wdate\">2023-04-18 08:03:01</span>\n",
            "</dd>\n",
            "</dl>\n",
            "</li>\n",
            "['역외 1316.8원…상승 출발 전망제조업·부동산 호조에 연준 추가 긴축 우려↑달러인덱스 102 초반 등락, 강세[이데일리 하상렬 기자]..\\n\\t\\t\\t\\t\\t\\t\\t\\t\\t\\t이데일리 \\n|\\n2023-04-18 08:03:01']\n",
            "['2023-04-18 08:03:01']\n",
            "['美 경제지표 호조…환율, 1320원대 초반 등락 예상[외환브리핑]']\n",
            "<li class=\"block1\">\n",
            "<dl>\n",
            "<dt class=\"thumb\">\n",
            "<a href=\"/news/news_read.naver?article_id=0004833901&amp;office_id=015&amp;mode=mainnews&amp;type=&amp;date=2023-04-18&amp;page=1\"><img onerror=\"this.src='https://ssl.pstatic.net/static/nfinance/2017/02/27/thumb_72x54.gif'\" src=\"https://imgnews.pstatic.net/image/thumb70/015/2023/04/18/4833901.jpg\"/></a>\n",
            "</dt>\n",
            "<dd class=\"articleSubject\">\n",
            "<span class=\"remark\"></span> <!-- 말머리는 span class=\"remark\" 로 묶임 -->\n",
            "<a href=\"/news/news_read.naver?article_id=0004833901&amp;office_id=015&amp;mode=mainnews&amp;type=&amp;date=2023-04-18&amp;page=1\">'신중론' 美증시 소폭상승…전국 천둥·번개 동반 비 [모닝브리핑]</a>\n",
            "</dd>\n",
            "<dd class=\"articleSummary\">\n",
            "\t\t\t\t\t\t\t\t\t\t◆ 뉴욕증시, 기업실적 발표 속 상승…'신중한 낙관론'뉴욕증시는 현지시간 17일 소폭 올랐습니다. 다우존스 지수는 전장보다 0.30% ..\n",
            "\t\t\t\t\t\t\t\t\t\t<span class=\"press\">한국경제 </span>\n",
            "<span class=\"bar\">|</span>\n",
            "<span class=\"wdate\">2023-04-18 07:08:01</span>\n",
            "</dd>\n",
            "</dl>\n",
            "</li>\n",
            "['역외 1316.8원…상승 출발 전망제조업·부동산 호조에 연준 추가 긴축 우려↑달러인덱스 102 초반 등락, 강세[이데일리 하상렬 기자]..\\n\\t\\t\\t\\t\\t\\t\\t\\t\\t\\t이데일리 \\n|\\n2023-04-18 08:03:01', \"◆ 뉴욕증시, 기업실적 발표 속 상승…'신중한 낙관론'뉴욕증시는 현지시간 17일 소폭 올랐습니다. 다우존스 지수는 전장보다 0.30% ..\\n\\t\\t\\t\\t\\t\\t\\t\\t\\t\\t한국경제 \\n|\\n2023-04-18 07:08:01\"]\n",
            "['2023-04-18 08:03:01', '2023-04-18 07:08:01']\n",
            "['美 경제지표 호조…환율, 1320원대 초반 등락 예상[외환브리핑]', \"'신중론' 美증시 소폭상승…전국 천둥·번개 동반 비 [모닝브리핑]\"]\n",
            "<li class=\"block1\">\n",
            "<dl>\n",
            "<dt class=\"thumb\">\n",
            "<a href=\"/news/news_read.naver?article_id=0004876181&amp;office_id=008&amp;mode=mainnews&amp;type=&amp;date=2023-04-18&amp;page=1\"><img onerror=\"this.src='https://ssl.pstatic.net/static/nfinance/2017/02/27/thumb_72x54.gif'\" src=\"https://imgnews.pstatic.net/image/thumb70/008/2023/04/18/4876181.jpg\"/></a>\n",
            "</dt>\n",
            "<dd class=\"articleSubject\">\n",
            "<span class=\"remark\"></span> <!-- 말머리는 span class=\"remark\" 로 묶임 -->\n",
            "<a href=\"/news/news_read.naver?article_id=0004876181&amp;office_id=008&amp;mode=mainnews&amp;type=&amp;date=2023-04-18&amp;page=1\">삼성의 변심, 구글은 비상 2.66%↓[뉴욕마감]</a>\n",
            "</dd>\n",
            "<dd class=\"articleSummary\">\n",
            "\t\t\t\t\t\t\t\t\t\t구글미국 기업들의 1분기 실적이 예상보다 낫다는 안도감이 퍼지면서 뉴욕 3대지수가 모두 0.3%p 안팎 상승했다. 연방준비제도(Fed)..\n",
            "\t\t\t\t\t\t\t\t\t\t<span class=\"press\">머니투데이 </span>\n",
            "<span class=\"bar\">|</span>\n",
            "<span class=\"wdate\">2023-04-18 06:31:33</span>\n",
            "</dd>\n",
            "</dl>\n",
            "</li>\n",
            "['역외 1316.8원…상승 출발 전망제조업·부동산 호조에 연준 추가 긴축 우려↑달러인덱스 102 초반 등락, 강세[이데일리 하상렬 기자]..\\n\\t\\t\\t\\t\\t\\t\\t\\t\\t\\t이데일리 \\n|\\n2023-04-18 08:03:01', \"◆ 뉴욕증시, 기업실적 발표 속 상승…'신중한 낙관론'뉴욕증시는 현지시간 17일 소폭 올랐습니다. 다우존스 지수는 전장보다 0.30% ..\\n\\t\\t\\t\\t\\t\\t\\t\\t\\t\\t한국경제 \\n|\\n2023-04-18 07:08:01\", '구글미국 기업들의 1분기 실적이 예상보다 낫다는 안도감이 퍼지면서 뉴욕 3대지수가 모두 0.3%p 안팎 상승했다. 연방준비제도(Fed)..\\n\\t\\t\\t\\t\\t\\t\\t\\t\\t\\t머니투데이 \\n|\\n2023-04-18 06:31:33']\n",
            "['2023-04-18 08:03:01', '2023-04-18 07:08:01', '2023-04-18 06:31:33']\n",
            "['美 경제지표 호조…환율, 1320원대 초반 등락 예상[외환브리핑]', \"'신중론' 美증시 소폭상승…전국 천둥·번개 동반 비 [모닝브리핑]\", '삼성의 변심, 구글은 비상 2.66%↓[뉴욕마감]']\n"
          ]
        }
      ]
    },
    {
      "cell_type": "code",
      "source": [
        "df = pd.DataFrame({'Title':remark_list,'Summary':article_list,'Date':press_list})\n",
        "df"
      ],
      "metadata": {
        "colab": {
          "base_uri": "https://localhost:8080/",
          "height": 143
        },
        "id": "F_q6-s2E1ScP",
        "outputId": "d19a5031-ac7c-439a-ced8-063209311ae6"
      },
      "execution_count": 62,
      "outputs": [
        {
          "output_type": "execute_result",
          "data": {
            "text/plain": [
              "                                  Title  \\\n",
              "0  美 경제지표 호조…환율, 1320원대 초반 등락 예상[외환브리핑]   \n",
              "1  '신중론' 美증시 소폭상승…전국 천둥·번개 동반 비 [모닝브리핑]   \n",
              "2           삼성의 변심, 구글은 비상 2.66%↓[뉴욕마감]   \n",
              "\n",
              "                                             Summary                 Date  \n",
              "0  역외 1316.8원…상승 출발 전망제조업·부동산 호조에 연준 추가 긴축 우려↑달러인...  2023-04-18 08:03:01  \n",
              "1  ◆ 뉴욕증시, 기업실적 발표 속 상승…'신중한 낙관론'뉴욕증시는 현지시간 17일 소...  2023-04-18 07:08:01  \n",
              "2  구글미국 기업들의 1분기 실적이 예상보다 낫다는 안도감이 퍼지면서 뉴욕 3대지수가 ...  2023-04-18 06:31:33  "
            ],
            "text/html": [
              "\n",
              "  <div id=\"df-b0515a43-4a86-45af-a428-21d975b27aad\">\n",
              "    <div class=\"colab-df-container\">\n",
              "      <div>\n",
              "<style scoped>\n",
              "    .dataframe tbody tr th:only-of-type {\n",
              "        vertical-align: middle;\n",
              "    }\n",
              "\n",
              "    .dataframe tbody tr th {\n",
              "        vertical-align: top;\n",
              "    }\n",
              "\n",
              "    .dataframe thead th {\n",
              "        text-align: right;\n",
              "    }\n",
              "</style>\n",
              "<table border=\"1\" class=\"dataframe\">\n",
              "  <thead>\n",
              "    <tr style=\"text-align: right;\">\n",
              "      <th></th>\n",
              "      <th>Title</th>\n",
              "      <th>Summary</th>\n",
              "      <th>Date</th>\n",
              "    </tr>\n",
              "  </thead>\n",
              "  <tbody>\n",
              "    <tr>\n",
              "      <th>0</th>\n",
              "      <td>美 경제지표 호조…환율, 1320원대 초반 등락 예상[외환브리핑]</td>\n",
              "      <td>역외 1316.8원…상승 출발 전망제조업·부동산 호조에 연준 추가 긴축 우려↑달러인...</td>\n",
              "      <td>2023-04-18 08:03:01</td>\n",
              "    </tr>\n",
              "    <tr>\n",
              "      <th>1</th>\n",
              "      <td>'신중론' 美증시 소폭상승…전국 천둥·번개 동반 비 [모닝브리핑]</td>\n",
              "      <td>◆ 뉴욕증시, 기업실적 발표 속 상승…'신중한 낙관론'뉴욕증시는 현지시간 17일 소...</td>\n",
              "      <td>2023-04-18 07:08:01</td>\n",
              "    </tr>\n",
              "    <tr>\n",
              "      <th>2</th>\n",
              "      <td>삼성의 변심, 구글은 비상 2.66%↓[뉴욕마감]</td>\n",
              "      <td>구글미국 기업들의 1분기 실적이 예상보다 낫다는 안도감이 퍼지면서 뉴욕 3대지수가 ...</td>\n",
              "      <td>2023-04-18 06:31:33</td>\n",
              "    </tr>\n",
              "  </tbody>\n",
              "</table>\n",
              "</div>\n",
              "      <button class=\"colab-df-convert\" onclick=\"convertToInteractive('df-b0515a43-4a86-45af-a428-21d975b27aad')\"\n",
              "              title=\"Convert this dataframe to an interactive table.\"\n",
              "              style=\"display:none;\">\n",
              "        \n",
              "  <svg xmlns=\"http://www.w3.org/2000/svg\" height=\"24px\"viewBox=\"0 0 24 24\"\n",
              "       width=\"24px\">\n",
              "    <path d=\"M0 0h24v24H0V0z\" fill=\"none\"/>\n",
              "    <path d=\"M18.56 5.44l.94 2.06.94-2.06 2.06-.94-2.06-.94-.94-2.06-.94 2.06-2.06.94zm-11 1L8.5 8.5l.94-2.06 2.06-.94-2.06-.94L8.5 2.5l-.94 2.06-2.06.94zm10 10l.94 2.06.94-2.06 2.06-.94-2.06-.94-.94-2.06-.94 2.06-2.06.94z\"/><path d=\"M17.41 7.96l-1.37-1.37c-.4-.4-.92-.59-1.43-.59-.52 0-1.04.2-1.43.59L10.3 9.45l-7.72 7.72c-.78.78-.78 2.05 0 2.83L4 21.41c.39.39.9.59 1.41.59.51 0 1.02-.2 1.41-.59l7.78-7.78 2.81-2.81c.8-.78.8-2.07 0-2.86zM5.41 20L4 18.59l7.72-7.72 1.47 1.35L5.41 20z\"/>\n",
              "  </svg>\n",
              "      </button>\n",
              "      \n",
              "  <style>\n",
              "    .colab-df-container {\n",
              "      display:flex;\n",
              "      flex-wrap:wrap;\n",
              "      gap: 12px;\n",
              "    }\n",
              "\n",
              "    .colab-df-convert {\n",
              "      background-color: #E8F0FE;\n",
              "      border: none;\n",
              "      border-radius: 50%;\n",
              "      cursor: pointer;\n",
              "      display: none;\n",
              "      fill: #1967D2;\n",
              "      height: 32px;\n",
              "      padding: 0 0 0 0;\n",
              "      width: 32px;\n",
              "    }\n",
              "\n",
              "    .colab-df-convert:hover {\n",
              "      background-color: #E2EBFA;\n",
              "      box-shadow: 0px 1px 2px rgba(60, 64, 67, 0.3), 0px 1px 3px 1px rgba(60, 64, 67, 0.15);\n",
              "      fill: #174EA6;\n",
              "    }\n",
              "\n",
              "    [theme=dark] .colab-df-convert {\n",
              "      background-color: #3B4455;\n",
              "      fill: #D2E3FC;\n",
              "    }\n",
              "\n",
              "    [theme=dark] .colab-df-convert:hover {\n",
              "      background-color: #434B5C;\n",
              "      box-shadow: 0px 1px 3px 1px rgba(0, 0, 0, 0.15);\n",
              "      filter: drop-shadow(0px 1px 2px rgba(0, 0, 0, 0.3));\n",
              "      fill: #FFFFFF;\n",
              "    }\n",
              "  </style>\n",
              "\n",
              "      <script>\n",
              "        const buttonEl =\n",
              "          document.querySelector('#df-b0515a43-4a86-45af-a428-21d975b27aad button.colab-df-convert');\n",
              "        buttonEl.style.display =\n",
              "          google.colab.kernel.accessAllowed ? 'block' : 'none';\n",
              "\n",
              "        async function convertToInteractive(key) {\n",
              "          const element = document.querySelector('#df-b0515a43-4a86-45af-a428-21d975b27aad');\n",
              "          const dataTable =\n",
              "            await google.colab.kernel.invokeFunction('convertToInteractive',\n",
              "                                                     [key], {});\n",
              "          if (!dataTable) return;\n",
              "\n",
              "          const docLinkHtml = 'Like what you see? Visit the ' +\n",
              "            '<a target=\"_blank\" href=https://colab.research.google.com/notebooks/data_table.ipynb>data table notebook</a>'\n",
              "            + ' to learn more about interactive tables.';\n",
              "          element.innerHTML = '';\n",
              "          dataTable['output_type'] = 'display_data';\n",
              "          await google.colab.output.renderOutput(dataTable, element);\n",
              "          const docLink = document.createElement('div');\n",
              "          docLink.innerHTML = docLinkHtml;\n",
              "          element.appendChild(docLink);\n",
              "        }\n",
              "      </script>\n",
              "    </div>\n",
              "  </div>\n",
              "  "
            ]
          },
          "metadata": {},
          "execution_count": 62
        }
      ]
    }
  ]
}