{
  "nbformat": 4,
  "nbformat_minor": 0,
  "metadata": {
    "colab": {
      "provenance": [],
      "authorship_tag": "ABX9TyNvBhVVc49UWrf8ydS2+bBG",
      "include_colab_link": true
    },
    "kernelspec": {
      "name": "python3",
      "display_name": "Python 3"
    },
    "language_info": {
      "name": "python"
    }
  },
  "cells": [
    {
      "cell_type": "markdown",
      "metadata": {
        "id": "view-in-github",
        "colab_type": "text"
      },
      "source": [
        "<a href=\"https://colab.research.google.com/github/JeonJongDae/dinner_stock_AI/blob/main/4%EC%A3%BC%EC%B0%A8/%EB%8D%B0%EC%9D%B4%ED%84%B0%EC%88%98%EC%A7%91_%EB%84%A4%EC%9D%B4%EB%B2%84_%EC%A3%BC%EC%9A%94%EB%89%B4%EC%8A%A4_ipynb%EC%9D%98_%EC%82%AC%EB%B3%B8.ipynb\" target=\"_parent\"><img src=\"https://colab.research.google.com/assets/colab-badge.svg\" alt=\"Open In Colab\"/></a>"
      ]
    },
    {
      "cell_type": "code",
      "execution_count": 9,
      "metadata": {
        "id": "5ut61Ti301nT"
      },
      "outputs": [],
      "source": [
        "from bs4 import BeautifulSoup \n",
        "import requests \n",
        "import pandas as pd\n",
        "url = \"https://finance.naver.com/news/mainnews.naver\"\n",
        "r = requests.get(url)"
      ]
    },
    {
      "cell_type": "code",
      "source": [
        "soup = BeautifulSoup(r.content,'lxml') \n",
        "post_list =soup.find_all('ul', {'class':'newsList'})"
      ],
      "metadata": {
        "id": "vDi6rHLaRAG2"
      },
      "execution_count": 10,
      "outputs": []
    },
    {
      "cell_type": "code",
      "source": [
        "post_list"
      ],
      "metadata": {
        "colab": {
          "base_uri": "https://localhost:8080/"
        },
        "id": "SIQ9WjnFResc",
        "outputId": "30592b09-2214-4479-b6cc-6eb392473f0a"
      },
      "execution_count": 11,
      "outputs": [
        {
          "output_type": "execute_result",
          "data": {
            "text/plain": [
              "[<ul class=\"newsList\">\n",
              " <!-- 고정 기사 리스트  -->\n",
              " <!-- // 고정 기사 리스트  -->\n",
              " <!-- 비고정 기사 리스트  -->\n",
              " <li class=\"block1\">\n",
              " <dl>\n",
              " <dt class=\"articleSubject\">\n",
              " <span class=\"remark\"></span> <!-- 말머리는 span class=\"remark\" 로 묶임 -->\n",
              " <a href=\"/news/news_read.naver?article_id=0005246693&amp;office_id=277&amp;mode=mainnews&amp;type=&amp;date=2023-04-17&amp;page=1\">[유럽개장]장 초반 상승세…英 0.45%↑</a>\n",
              " </dt>\n",
              " <dd class=\"articleSummary\">\n",
              " \t\t\t\t\t\t\t\t\t\t17일 유럽 증시가 장 초반 오름세다.한국시간 오후 5시23분 현재 영국 FTSE지수는 7907.59로 전 거래일 대비 0.45% 상승했다. 독일 DAX지수는 0.23% 오른 1만..\n",
              " \t\t\t\t\t\t\t\t\t\t<span class=\"press\">아시아경제 </span>\n",
              " <span class=\"bar\">|</span>\n",
              " <span class=\"wdate\">2023-04-17 17:28:04</span>\n",
              " </dd>\n",
              " </dl>\n",
              " </li>\n",
              " <li class=\"block1\">\n",
              " <dl>\n",
              " <dt class=\"thumb\">\n",
              " <a href=\"/news/news_read.naver?article_id=0004876048&amp;office_id=008&amp;mode=mainnews&amp;type=&amp;date=2023-04-17&amp;page=1\"><img onerror=\"this.src='https://ssl.pstatic.net/static/nfinance/2017/02/27/thumb_72x54.gif'\" src=\"https://imgnews.pstatic.net/image/thumb70/008/2023/04/17/4876048.jpg\"/></a>\n",
              " </dt>\n",
              " <dd class=\"articleSubject\">\n",
              " <span class=\"remark\"></span> <!-- 말머리는 span class=\"remark\" 로 묶임 -->\n",
              " <a href=\"/news/news_read.naver?article_id=0004876048&amp;office_id=008&amp;mode=mainnews&amp;type=&amp;date=2023-04-17&amp;page=1\">오랜만에 '뒷심' 발휘한 증시…\"금리인상 끝이 보인다\"[Asia마감]</a>\n",
              " </dd>\n",
              " <dd class=\"articleSummary\">\n",
              " \t\t\t\t\t\t\t\t\t\t/삽화=임종철 디자인기자17일 아시아 주요증시는 실망으로 시작해 환희로 마감했다. 홍콩 등 중화권 증시는 마이너스로 시작했지만 오후 들..\n",
              " \t\t\t\t\t\t\t\t\t\t<span class=\"press\">머니투데이 </span>\n",
              " <span class=\"bar\">|</span>\n",
              " <span class=\"wdate\">2023-04-17 17:04:41</span>\n",
              " </dd>\n",
              " </dl>\n",
              " </li>\n",
              " <li class=\"block1\">\n",
              " <dl>\n",
              " <dt class=\"thumb\">\n",
              " <a href=\"/news/news_read.naver?article_id=0005465813&amp;office_id=018&amp;mode=mainnews&amp;type=&amp;date=2023-04-17&amp;page=1\"><img onerror=\"this.src='https://ssl.pstatic.net/static/nfinance/2017/02/27/thumb_72x54.gif'\" src=\"https://imgnews.pstatic.net/image/thumb70/018/2023/04/17/5465813.jpg\"/></a>\n",
              " </dt>\n",
              " <dd class=\"articleSubject\">\n",
              " <span class=\"remark\"></span> <!-- 말머리는 span class=\"remark\" 로 묶임 -->\n",
              " <a href=\"/news/news_read.naver?article_id=0005465813&amp;office_id=018&amp;mode=mainnews&amp;type=&amp;date=2023-04-17&amp;page=1\">[코스닥 마감]개인 순매수세에 900선 지지…2차전지 소재株 강세</a>\n",
              " </dd>\n",
              " <dd class=\"articleSummary\">\n",
              " \t\t\t\t\t\t\t\t\t\t개인 ‘사자’ vs 기관·외국인 ‘팔자’장중 890선 하락했다 상승 전환일반전기전자 4%, 금속 2%대 강세2차전지 소재주 강세 지속…..\n",
              " \t\t\t\t\t\t\t\t\t\t<span class=\"press\">이데일리 </span>\n",
              " <span class=\"bar\">|</span>\n",
              " <span class=\"wdate\">2023-04-17 16:25:02</span>\n",
              " </dd>\n",
              " </dl>\n",
              " </li>\n",
              " <li class=\"block1\">\n",
              " <dl>\n",
              " <dt class=\"thumb\">\n",
              " <a href=\"/news/news_read.naver?article_id=0000894224&amp;office_id=366&amp;mode=mainnews&amp;type=&amp;date=2023-04-17&amp;page=1\"><img onerror=\"this.src='https://ssl.pstatic.net/static/nfinance/2017/02/27/thumb_72x54.gif'\" src=\"https://imgnews.pstatic.net/image/thumb70/366/2023/04/17/894224.jpg\"/></a>\n",
              " </dt>\n",
              " <dd class=\"articleSubject\">\n",
              " <span class=\"remark\"></span> <!-- 말머리는 span class=\"remark\" 로 묶임 -->\n",
              " <a href=\"/news/news_read.naver?article_id=0000894224&amp;office_id=366&amp;mode=mainnews&amp;type=&amp;date=2023-04-17&amp;page=1\">[마켓뷰] 개인이 끌어올린 코스피·코스닥…JYP엔터·하이브 등 엔터株 강세</a>\n",
              " </dd>\n",
              " <dd class=\"articleSummary\">\n",
              " \t\t\t\t\t\t\t\t\t\t코스피, 7거래일 연속 ‘상승’ 마감        코스피지수가 개인 매수세에 힘입어 2570선에서 상승 마감했다. 지수는 7거래일 연속..\n",
              " \t\t\t\t\t\t\t\t\t\t<span class=\"press\">조선비즈 </span>\n",
              " <span class=\"bar\">|</span>\n",
              " <span class=\"wdate\">2023-04-17 16:22:08</span>\n",
              " </dd>\n",
              " </dl>\n",
              " </li>\n",
              " <li class=\"block1\">\n",
              " <dl>\n",
              " <dt class=\"thumb\">\n",
              " <a href=\"/news/news_read.naver?article_id=0006752667&amp;office_id=421&amp;mode=mainnews&amp;type=&amp;date=2023-04-17&amp;page=1\"><img onerror=\"this.src='https://ssl.pstatic.net/static/nfinance/2017/02/27/thumb_72x54.gif'\" src=\"https://imgnews.pstatic.net/image/thumb70/421/2023/04/17/6752667.jpg\"/></a>\n",
              " </dt>\n",
              " <dd class=\"articleSubject\">\n",
              " <span class=\"remark\"></span> <!-- 말머리는 span class=\"remark\" 로 묶임 -->\n",
              " <a href=\"/news/news_read.naver?article_id=0006752667&amp;office_id=421&amp;mode=mainnews&amp;type=&amp;date=2023-04-17&amp;page=1\">\"2차전지 개미의 힘\"…증시 소폭 상승마감 [시황종합]</a>\n",
              " </dd>\n",
              " <dd class=\"articleSummary\">\n",
              " \t\t\t\t\t\t\t\t\t\tⓒ News1 김지영 디자이너(서울=뉴스1) 공준호 기자 = 코스피와 코스닥이 상승마감했다. 개인의 '나홀로' 매수세가 외국인·기관의 ..\n",
              " \t\t\t\t\t\t\t\t\t\t<span class=\"press\">뉴스1 </span>\n",
              " <span class=\"bar\">|</span>\n",
              " <span class=\"wdate\">2023-04-17 16:17:06</span>\n",
              " </dd>\n",
              " </dl>\n",
              " </li>\n",
              " <li class=\"block1\">\n",
              " <dl>\n",
              " <dt class=\"thumb\">\n",
              " <a href=\"/news/news_read.naver?article_id=0011808170&amp;office_id=003&amp;mode=mainnews&amp;type=&amp;date=2023-04-17&amp;page=1\"><img onerror=\"this.src='https://ssl.pstatic.net/static/nfinance/2017/02/27/thumb_72x54.gif'\" src=\"https://imgnews.pstatic.net/image/thumb70/003/2023/04/17/11808170.jpg\"/></a>\n",
              " </dt>\n",
              " <dd class=\"articleSubject\">\n",
              " <span class=\"remark\"></span> <!-- 말머리는 span class=\"remark\" 로 묶임 -->\n",
              " <a href=\"/news/news_read.naver?article_id=0011808170&amp;office_id=003&amp;mode=mainnews&amp;type=&amp;date=2023-04-17&amp;page=1\">[마감시황]코스피, 7거래일 연속 상승…2570선 안착</a>\n",
              " </dd>\n",
              " <dd class=\"articleSummary\">\n",
              " \t\t\t\t\t\t\t\t\t\t기사내용 요약포스코·에코프로 등 견인[서울=뉴시스] 김금보 기자 = 17일 오후 서울 중구 하나은행 딜링룸에서 딜러들이 업무를 하고 있..\n",
              " \t\t\t\t\t\t\t\t\t\t<span class=\"press\">뉴시스 </span>\n",
              " <span class=\"bar\">|</span>\n",
              " <span class=\"wdate\">2023-04-17 16:13:24</span>\n",
              " </dd>\n",
              " </dl>\n",
              " </li>\n",
              " <li class=\"block1\">\n",
              " <dl>\n",
              " <dt class=\"thumb\">\n",
              " <a href=\"/news/news_read.naver?article_id=0005465798&amp;office_id=018&amp;mode=mainnews&amp;type=&amp;date=2023-04-17&amp;page=1\"><img onerror=\"this.src='https://ssl.pstatic.net/static/nfinance/2017/02/27/thumb_72x54.gif'\" src=\"https://imgnews.pstatic.net/image/thumb70/018/2023/04/17/5465798.jpg\"/></a>\n",
              " </dt>\n",
              " <dd class=\"articleSubject\">\n",
              " <span class=\"remark\"></span> <!-- 말머리는 span class=\"remark\" 로 묶임 -->\n",
              " <a href=\"/news/news_read.naver?article_id=0005465798&amp;office_id=018&amp;mode=mainnews&amp;type=&amp;date=2023-04-17&amp;page=1\">연준 긴축 우려 재점화…환율, 급등해 1310원대로[외환마감]</a>\n",
              " </dd>\n",
              " <dd class=\"articleSummary\">\n",
              " \t\t\t\t\t\t\t\t\t\t12.2원 오른 1311.1원에 마감달러인덱스 101 중반 등락외국인 코스피서 80억원 순매도[이데일리 하상렬 기자] 원·달러 환율이 ..\n",
              " \t\t\t\t\t\t\t\t\t\t<span class=\"press\">이데일리 </span>\n",
              " <span class=\"bar\">|</span>\n",
              " <span class=\"wdate\">2023-04-17 16:12:01</span>\n",
              " </dd>\n",
              " </dl>\n",
              " </li>\n",
              " <li class=\"block1\">\n",
              " <dl>\n",
              " <dt class=\"articleSubject\">\n",
              " <span class=\"remark\"></span> <!-- 말머리는 span class=\"remark\" 로 묶임 -->\n",
              " <a href=\"/news/news_read.naver?article_id=0004875841&amp;office_id=008&amp;mode=mainnews&amp;type=&amp;date=2023-04-17&amp;page=1\">[Asia오전] 美 금리 더 올리나…日닛케이 약보합</a>\n",
              " </dt>\n",
              " <dd class=\"articleSummary\">\n",
              " \t\t\t\t\t\t\t\t\t\t17일 오전 아시아 주요 증시는 일본만 약세다. 일본 도쿄증시의 닛케이225지수는 전일 대비 0.06% 소폭 떨어진 2만8475.31로 오전 거래를 마쳤다. 지수는 이날 오전 미국..\n",
              " \t\t\t\t\t\t\t\t\t\t<span class=\"press\">머니투데이 </span>\n",
              " <span class=\"bar\">|</span>\n",
              " <span class=\"wdate\">2023-04-17 11:44:09</span>\n",
              " </dd>\n",
              " </dl>\n",
              " </li>\n",
              " <li class=\"block1\">\n",
              " <dl>\n",
              " <dt class=\"thumb\">\n",
              " <a href=\"/news/news_read.naver?article_id=0005465300&amp;office_id=018&amp;mode=mainnews&amp;type=&amp;date=2023-04-17&amp;page=1\"><img onerror=\"this.src='https://ssl.pstatic.net/static/nfinance/2017/02/27/thumb_72x54.gif'\" src=\"https://imgnews.pstatic.net/image/thumb70/018/2023/04/17/5465300.jpg\"/></a>\n",
              " </dt>\n",
              " <dd class=\"articleSubject\">\n",
              " <span class=\"remark\"></span> <!-- 말머리는 span class=\"remark\" 로 묶임 -->\n",
              " <a href=\"/news/news_read.naver?article_id=0005465300&amp;office_id=018&amp;mode=mainnews&amp;type=&amp;date=2023-04-17&amp;page=1\">美 기대인플레 급등에…환율, 1300원대 진입 전망[외환브리핑]</a>\n",
              " </dd>\n",
              " <dd class=\"articleSummary\">\n",
              " \t\t\t\t\t\t\t\t\t\t역외 1302.0원…상승 출발 예상4월 기대인플레 4.6%, 연준 매파 발언도달러인덱스 101 중반 등락, 강세[이데일리 하상렬 기자]..\n",
              " \t\t\t\t\t\t\t\t\t\t<span class=\"press\">이데일리 </span>\n",
              " <span class=\"bar\">|</span>\n",
              " <span class=\"wdate\">2023-04-17 08:11:01</span>\n",
              " </dd>\n",
              " </dl>\n",
              " </li>\n",
              " <!-- // 비고정 기사 리스트  -->\n",
              " </ul>]"
            ]
          },
          "metadata": {},
          "execution_count": 11
        }
      ]
    }
  ]
}