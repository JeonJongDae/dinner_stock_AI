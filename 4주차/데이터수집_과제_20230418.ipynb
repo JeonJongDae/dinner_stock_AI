{
  "nbformat": 4,
  "nbformat_minor": 0,
  "metadata": {
    "colab": {
      "provenance": [],
      "authorship_tag": "ABX9TyNGc8ehLKo/Bxhy/akqB0Li",
      "include_colab_link": true
    },
    "kernelspec": {
      "name": "python3",
      "display_name": "Python 3"
    },
    "language_info": {
      "name": "python"
    }
  },
  "cells": [
    {
      "cell_type": "markdown",
      "metadata": {
        "id": "view-in-github",
        "colab_type": "text"
      },
      "source": [
        "<a href=\"https://colab.research.google.com/github/JeonJongDae/dinner_stock_AI/blob/main/4%EC%A3%BC%EC%B0%A8/%EB%8D%B0%EC%9D%B4%ED%84%B0%EC%88%98%EC%A7%91_%EA%B3%BC%EC%A0%9C_20230418.ipynb\" target=\"_parent\"><img src=\"https://colab.research.google.com/assets/colab-badge.svg\" alt=\"Open In Colab\"/></a>"
      ]
    },
    {
      "cell_type": "code",
      "execution_count": 34,
      "metadata": {
        "id": "xKw-009Q_yb5"
      },
      "outputs": [],
      "source": [
        "from bs4 import BeautifulSoup\n",
        "import pandas as pd\n",
        "import requests"
      ]
    },
    {
      "cell_type": "code",
      "source": [
        "url = 'https://finance.naver.com/news/mainnews.naver'\n",
        "response = requests.get(url)\n",
        "soup = BeautifulSoup(response.text, 'lxml')\n",
        "main_new=soup.findAll('div', {'class': 'mainNewsList'})\n",
        "main_new"
      ],
      "metadata": {
        "id": "9ZPQr2ggBPWm"
      },
      "execution_count": null,
      "outputs": []
    },
    {
      "cell_type": "code",
      "source": [
        "title_list=[]\n",
        "date_list=[]\n",
        "company_list=[]\n",
        "url_list=[]\n",
        "doc_list = []\n",
        "for news in main_new:\n",
        "    title=news.find('dd', {'class':'articleSubject'}).text.strip()\n",
        "    date= news.find('span', {'class':'wdate'}).text\n",
        "    company = news.find('span', {'class':'press'}).text\n",
        "    #urladd = news.find('dt', {'class':'thumb'})\n",
        "    urladd = news.find('a').get('href')\n",
        "    \n",
        "    title_list.append(title)\n",
        "    date_list.append(date)\n",
        "    company_list.append(company)\n",
        "    url_list.append(urladd)\n",
        "    print(urladd)\n",
        "df = pd.DataFrame({\"기사제목\": title_list, \"날짜\" : date_list, \"신문사l\": company_list, \"상세페이지URL\":url_list})\n",
        "df.head()"
      ],
      "metadata": {
        "colab": {
          "base_uri": "https://localhost:8080/",
          "height": 99
        },
        "id": "NPDvnpIWCEEt",
        "outputId": "a4aad198-a57c-4f01-9a14-89af8de25e14"
      },
      "execution_count": 42,
      "outputs": [
        {
          "output_type": "stream",
          "name": "stdout",
          "text": [
            "/news/news_read.naver?article_id=0004876636&office_id=008&mode=mainnews&type=&date=2023-04-18&page=1\n"
          ]
        },
        {
          "output_type": "execute_result",
          "data": {
            "text/plain": [
              "                                    기사제목                   날짜    신문사l  \\\n",
              "0  中 기대 이상 성장률에도 증시 잠잠…상하이 0.2%↑[Asia마감]  2023-04-18 17:40:00  머니투데이    \n",
              "\n",
              "                                            상세페이지URL  \n",
              "0  /news/news_read.naver?article_id=0004876636&of...  "
            ],
            "text/html": [
              "\n",
              "  <div id=\"df-13ad0741-79f4-4ad6-94f5-d19c4dbf76fc\">\n",
              "    <div class=\"colab-df-container\">\n",
              "      <div>\n",
              "<style scoped>\n",
              "    .dataframe tbody tr th:only-of-type {\n",
              "        vertical-align: middle;\n",
              "    }\n",
              "\n",
              "    .dataframe tbody tr th {\n",
              "        vertical-align: top;\n",
              "    }\n",
              "\n",
              "    .dataframe thead th {\n",
              "        text-align: right;\n",
              "    }\n",
              "</style>\n",
              "<table border=\"1\" class=\"dataframe\">\n",
              "  <thead>\n",
              "    <tr style=\"text-align: right;\">\n",
              "      <th></th>\n",
              "      <th>기사제목</th>\n",
              "      <th>날짜</th>\n",
              "      <th>신문사l</th>\n",
              "      <th>상세페이지URL</th>\n",
              "    </tr>\n",
              "  </thead>\n",
              "  <tbody>\n",
              "    <tr>\n",
              "      <th>0</th>\n",
              "      <td>中 기대 이상 성장률에도 증시 잠잠…상하이 0.2%↑[Asia마감]</td>\n",
              "      <td>2023-04-18 17:40:00</td>\n",
              "      <td>머니투데이</td>\n",
              "      <td>/news/news_read.naver?article_id=0004876636&amp;of...</td>\n",
              "    </tr>\n",
              "  </tbody>\n",
              "</table>\n",
              "</div>\n",
              "      <button class=\"colab-df-convert\" onclick=\"convertToInteractive('df-13ad0741-79f4-4ad6-94f5-d19c4dbf76fc')\"\n",
              "              title=\"Convert this dataframe to an interactive table.\"\n",
              "              style=\"display:none;\">\n",
              "        \n",
              "  <svg xmlns=\"http://www.w3.org/2000/svg\" height=\"24px\"viewBox=\"0 0 24 24\"\n",
              "       width=\"24px\">\n",
              "    <path d=\"M0 0h24v24H0V0z\" fill=\"none\"/>\n",
              "    <path d=\"M18.56 5.44l.94 2.06.94-2.06 2.06-.94-2.06-.94-.94-2.06-.94 2.06-2.06.94zm-11 1L8.5 8.5l.94-2.06 2.06-.94-2.06-.94L8.5 2.5l-.94 2.06-2.06.94zm10 10l.94 2.06.94-2.06 2.06-.94-2.06-.94-.94-2.06-.94 2.06-2.06.94z\"/><path d=\"M17.41 7.96l-1.37-1.37c-.4-.4-.92-.59-1.43-.59-.52 0-1.04.2-1.43.59L10.3 9.45l-7.72 7.72c-.78.78-.78 2.05 0 2.83L4 21.41c.39.39.9.59 1.41.59.51 0 1.02-.2 1.41-.59l7.78-7.78 2.81-2.81c.8-.78.8-2.07 0-2.86zM5.41 20L4 18.59l7.72-7.72 1.47 1.35L5.41 20z\"/>\n",
              "  </svg>\n",
              "      </button>\n",
              "      \n",
              "  <style>\n",
              "    .colab-df-container {\n",
              "      display:flex;\n",
              "      flex-wrap:wrap;\n",
              "      gap: 12px;\n",
              "    }\n",
              "\n",
              "    .colab-df-convert {\n",
              "      background-color: #E8F0FE;\n",
              "      border: none;\n",
              "      border-radius: 50%;\n",
              "      cursor: pointer;\n",
              "      display: none;\n",
              "      fill: #1967D2;\n",
              "      height: 32px;\n",
              "      padding: 0 0 0 0;\n",
              "      width: 32px;\n",
              "    }\n",
              "\n",
              "    .colab-df-convert:hover {\n",
              "      background-color: #E2EBFA;\n",
              "      box-shadow: 0px 1px 2px rgba(60, 64, 67, 0.3), 0px 1px 3px 1px rgba(60, 64, 67, 0.15);\n",
              "      fill: #174EA6;\n",
              "    }\n",
              "\n",
              "    [theme=dark] .colab-df-convert {\n",
              "      background-color: #3B4455;\n",
              "      fill: #D2E3FC;\n",
              "    }\n",
              "\n",
              "    [theme=dark] .colab-df-convert:hover {\n",
              "      background-color: #434B5C;\n",
              "      box-shadow: 0px 1px 3px 1px rgba(0, 0, 0, 0.15);\n",
              "      filter: drop-shadow(0px 1px 2px rgba(0, 0, 0, 0.3));\n",
              "      fill: #FFFFFF;\n",
              "    }\n",
              "  </style>\n",
              "\n",
              "      <script>\n",
              "        const buttonEl =\n",
              "          document.querySelector('#df-13ad0741-79f4-4ad6-94f5-d19c4dbf76fc button.colab-df-convert');\n",
              "        buttonEl.style.display =\n",
              "          google.colab.kernel.accessAllowed ? 'block' : 'none';\n",
              "\n",
              "        async function convertToInteractive(key) {\n",
              "          const element = document.querySelector('#df-13ad0741-79f4-4ad6-94f5-d19c4dbf76fc');\n",
              "          const dataTable =\n",
              "            await google.colab.kernel.invokeFunction('convertToInteractive',\n",
              "                                                     [key], {});\n",
              "          if (!dataTable) return;\n",
              "\n",
              "          const docLinkHtml = 'Like what you see? Visit the ' +\n",
              "            '<a target=\"_blank\" href=https://colab.research.google.com/notebooks/data_table.ipynb>data table notebook</a>'\n",
              "            + ' to learn more about interactive tables.';\n",
              "          element.innerHTML = '';\n",
              "          dataTable['output_type'] = 'display_data';\n",
              "          await google.colab.output.renderOutput(dataTable, element);\n",
              "          const docLink = document.createElement('div');\n",
              "          docLink.innerHTML = docLinkHtml;\n",
              "          element.appendChild(docLink);\n",
              "        }\n",
              "      </script>\n",
              "    </div>\n",
              "  </div>\n",
              "  "
            ]
          },
          "metadata": {},
          "execution_count": 42
        }
      ]
    },
    {
      "cell_type": "code",
      "source": [
        "basic_url = \"https://finance.naver.com\"\n",
        "for i in range(len(df)):\n",
        "    full_add = basic_url + df['상세페이지URL'][i]\n",
        "    print(full_add)\n",
        "    response_detail = requests.get(full_add)\n",
        "    soup_detail = BeautifulSoup(response_detail.text,'lxml')\n",
        "    doc_detail = soup_detail.find('div', {'class':'articleCont'}).text.strip()\n",
        "    print(doc_detail)\n",
        "    doc_list.append(doc_detail)\n",
        "df['기사본문']= doc_list"
      ],
      "metadata": {
        "colab": {
          "base_uri": "https://localhost:8080/"
        },
        "id": "6fhYZH41EsRO",
        "outputId": "7f0e9a7b-ff5c-4e5f-e605-cf376b1348b1"
      },
      "execution_count": 51,
      "outputs": [
        {
          "output_type": "stream",
          "name": "stdout",
          "text": [
            "https://finance.naver.com/news/news_read.naver?article_id=0004876636&office_id=008&mode=mainnews&type=&date=2023-04-18&page=1\n",
            "(베이징 AFP=뉴스1) 우동명 기자 = 시진핑 중국 국가주석이 10일 (현지시간) 베이징 인민 대회당에서 열린 전국인민대표대회(전인대)에서 신중국 건국 이후 첫 '3연임' 국가주석에 만장일치로 선출된 뒤 선서를 하고 있다.   ⓒ AFP=뉴스1  Copyright (C) 뉴스1. All rights reserved. 무단 전재 및 재배포 금지.18일 아시아 주요 증시는 등락이 엇갈렸다. 이날 중국이 예상보다 높은 1분기 성장률을 발표했지만 3월 경제지표 일부는 기대에 못 미치면서 고르지 못한 회복세를 보여줬다.일본 도쿄증시의 닛케이225지수는 전일 대비 0.51% 오른 2만8658.83에 거래를 마감했다. 8거래일 연속 상승하며 연중 최고치를 경신했다. 간밤 미국 뉴욕증시 상승이 이날 시장 분위기를 끌어올렸다고 니혼게이자이는 전했다.중화권에선 본토 증시가 소폭 오른 것을 빼곤 약세였다. 본토 상하이종합지수는 0.22% 오른 3393.33에 장을 마쳤다. 반면 홍콩 항셍지수는 0.63% 내린 2만650.51을 기록했고, 대만 자취안지수도 0.59% 하락한 1만5869.44에 종가를 썼다.이날 발표된 중국의 1분기 경제 성장률은 전년 대비 4.5%를 기록, 로이터 기준 시장 전망치인 4.0%를 훌쩍 웃돌았다. 함께 발표된 3월 소매판매 역시 전년 대비 10.6% 증가율을 기록하며 2021년 6월 이후 최고치를 기록했다. 하지만 3월 산업생산 증가율은 3.9%, 고정자산투자(3월 누계) 증가율은 5.1%에 그치며 각각 전망치를 밑도는 등 상대적으로 부진했다.런던 이쿼티캐피탈의 스튜어트 콜 수석 이코노미스트는 블룸버그에 \"중국 경제 회복세가 얼마나 강한지, 얼마나 지속가능한지, 앞으로 계속 이어질지 등 진짜 상황을 판단하려면 시간이 필요하다\"고 지적했다.머니투데이 관련뉴스해당 언론사에서 선정하며 언론사 페이지(아웃링크)로 이동해 볼 수 있습니다.이름만 5개? '이승기 아내' 이다인, 3번 개명한 사연박규리 \"눈앞 뿌옇더니 34세 뇌출혈 진단…천운으로 이겨내\"\"임영웅 출연료 빈칸, 다른 약속\"…PD가 밝힌 섭외 비결\"두번째 남편 몰래 혼인신고\" 선넘은 고딩엄마…박미선도 경악\"남편, '아프다'는 말 8개월 무시…24살에 결국 암 진단\" 눈물\n"
          ]
        }
      ]
    },
    {
      "cell_type": "code",
      "source": [
        "df.head()"
      ],
      "metadata": {
        "colab": {
          "base_uri": "https://localhost:8080/",
          "height": 80
        },
        "id": "vbIy94JmKIVu",
        "outputId": "efa279bf-73d0-4394-b0ab-f2e7eddabc47"
      },
      "execution_count": 52,
      "outputs": [
        {
          "output_type": "execute_result",
          "data": {
            "text/plain": [
              "                                    기사제목                   날짜    신문사l  \\\n",
              "0  中 기대 이상 성장률에도 증시 잠잠…상하이 0.2%↑[Asia마감]  2023-04-18 17:40:00  머니투데이    \n",
              "\n",
              "                                            상세페이지URL  \\\n",
              "0  /news/news_read.naver?article_id=0004876636&of...   \n",
              "\n",
              "                                                기사본문  \n",
              "0  (베이징 AFP=뉴스1) 우동명 기자 = 시진핑 중국 국가주석이 10일 (현지시간)...  "
            ],
            "text/html": [
              "\n",
              "  <div id=\"df-035c58d8-80a0-4203-bbab-a6bc5abd324c\">\n",
              "    <div class=\"colab-df-container\">\n",
              "      <div>\n",
              "<style scoped>\n",
              "    .dataframe tbody tr th:only-of-type {\n",
              "        vertical-align: middle;\n",
              "    }\n",
              "\n",
              "    .dataframe tbody tr th {\n",
              "        vertical-align: top;\n",
              "    }\n",
              "\n",
              "    .dataframe thead th {\n",
              "        text-align: right;\n",
              "    }\n",
              "</style>\n",
              "<table border=\"1\" class=\"dataframe\">\n",
              "  <thead>\n",
              "    <tr style=\"text-align: right;\">\n",
              "      <th></th>\n",
              "      <th>기사제목</th>\n",
              "      <th>날짜</th>\n",
              "      <th>신문사l</th>\n",
              "      <th>상세페이지URL</th>\n",
              "      <th>기사본문</th>\n",
              "    </tr>\n",
              "  </thead>\n",
              "  <tbody>\n",
              "    <tr>\n",
              "      <th>0</th>\n",
              "      <td>中 기대 이상 성장률에도 증시 잠잠…상하이 0.2%↑[Asia마감]</td>\n",
              "      <td>2023-04-18 17:40:00</td>\n",
              "      <td>머니투데이</td>\n",
              "      <td>/news/news_read.naver?article_id=0004876636&amp;of...</td>\n",
              "      <td>(베이징 AFP=뉴스1) 우동명 기자 = 시진핑 중국 국가주석이 10일 (현지시간)...</td>\n",
              "    </tr>\n",
              "  </tbody>\n",
              "</table>\n",
              "</div>\n",
              "      <button class=\"colab-df-convert\" onclick=\"convertToInteractive('df-035c58d8-80a0-4203-bbab-a6bc5abd324c')\"\n",
              "              title=\"Convert this dataframe to an interactive table.\"\n",
              "              style=\"display:none;\">\n",
              "        \n",
              "  <svg xmlns=\"http://www.w3.org/2000/svg\" height=\"24px\"viewBox=\"0 0 24 24\"\n",
              "       width=\"24px\">\n",
              "    <path d=\"M0 0h24v24H0V0z\" fill=\"none\"/>\n",
              "    <path d=\"M18.56 5.44l.94 2.06.94-2.06 2.06-.94-2.06-.94-.94-2.06-.94 2.06-2.06.94zm-11 1L8.5 8.5l.94-2.06 2.06-.94-2.06-.94L8.5 2.5l-.94 2.06-2.06.94zm10 10l.94 2.06.94-2.06 2.06-.94-2.06-.94-.94-2.06-.94 2.06-2.06.94z\"/><path d=\"M17.41 7.96l-1.37-1.37c-.4-.4-.92-.59-1.43-.59-.52 0-1.04.2-1.43.59L10.3 9.45l-7.72 7.72c-.78.78-.78 2.05 0 2.83L4 21.41c.39.39.9.59 1.41.59.51 0 1.02-.2 1.41-.59l7.78-7.78 2.81-2.81c.8-.78.8-2.07 0-2.86zM5.41 20L4 18.59l7.72-7.72 1.47 1.35L5.41 20z\"/>\n",
              "  </svg>\n",
              "      </button>\n",
              "      \n",
              "  <style>\n",
              "    .colab-df-container {\n",
              "      display:flex;\n",
              "      flex-wrap:wrap;\n",
              "      gap: 12px;\n",
              "    }\n",
              "\n",
              "    .colab-df-convert {\n",
              "      background-color: #E8F0FE;\n",
              "      border: none;\n",
              "      border-radius: 50%;\n",
              "      cursor: pointer;\n",
              "      display: none;\n",
              "      fill: #1967D2;\n",
              "      height: 32px;\n",
              "      padding: 0 0 0 0;\n",
              "      width: 32px;\n",
              "    }\n",
              "\n",
              "    .colab-df-convert:hover {\n",
              "      background-color: #E2EBFA;\n",
              "      box-shadow: 0px 1px 2px rgba(60, 64, 67, 0.3), 0px 1px 3px 1px rgba(60, 64, 67, 0.15);\n",
              "      fill: #174EA6;\n",
              "    }\n",
              "\n",
              "    [theme=dark] .colab-df-convert {\n",
              "      background-color: #3B4455;\n",
              "      fill: #D2E3FC;\n",
              "    }\n",
              "\n",
              "    [theme=dark] .colab-df-convert:hover {\n",
              "      background-color: #434B5C;\n",
              "      box-shadow: 0px 1px 3px 1px rgba(0, 0, 0, 0.15);\n",
              "      filter: drop-shadow(0px 1px 2px rgba(0, 0, 0, 0.3));\n",
              "      fill: #FFFFFF;\n",
              "    }\n",
              "  </style>\n",
              "\n",
              "      <script>\n",
              "        const buttonEl =\n",
              "          document.querySelector('#df-035c58d8-80a0-4203-bbab-a6bc5abd324c button.colab-df-convert');\n",
              "        buttonEl.style.display =\n",
              "          google.colab.kernel.accessAllowed ? 'block' : 'none';\n",
              "\n",
              "        async function convertToInteractive(key) {\n",
              "          const element = document.querySelector('#df-035c58d8-80a0-4203-bbab-a6bc5abd324c');\n",
              "          const dataTable =\n",
              "            await google.colab.kernel.invokeFunction('convertToInteractive',\n",
              "                                                     [key], {});\n",
              "          if (!dataTable) return;\n",
              "\n",
              "          const docLinkHtml = 'Like what you see? Visit the ' +\n",
              "            '<a target=\"_blank\" href=https://colab.research.google.com/notebooks/data_table.ipynb>data table notebook</a>'\n",
              "            + ' to learn more about interactive tables.';\n",
              "          element.innerHTML = '';\n",
              "          dataTable['output_type'] = 'display_data';\n",
              "          await google.colab.output.renderOutput(dataTable, element);\n",
              "          const docLink = document.createElement('div');\n",
              "          docLink.innerHTML = docLinkHtml;\n",
              "          element.appendChild(docLink);\n",
              "        }\n",
              "      </script>\n",
              "    </div>\n",
              "  </div>\n",
              "  "
            ]
          },
          "metadata": {},
          "execution_count": 52
        }
      ]
    }
  ]
}